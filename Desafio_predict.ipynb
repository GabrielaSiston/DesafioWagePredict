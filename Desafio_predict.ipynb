{
 "cells": [
  {
   "cell_type": "code",
   "execution_count": 1,
   "metadata": {
    "id": "sCbqwyLVUUoH"
   },
   "outputs": [],
   "source": [
    "%matplotlib inline\n",
    "#Importando bibliotecas\n",
    "import pandas as pd\n",
    "import seaborn as sns\n",
    "import matplotlib.pyplot as plt\n",
    "import numpy as np"
   ]
  },
  {
   "cell_type": "code",
   "execution_count": 2,
   "metadata": {
    "colab": {
     "base_uri": "https://localhost:8080/"
    },
    "id": "RRvhLWOqUpFf",
    "outputId": "23830ff6-d8c5-4306-e70d-4d89fc5be41b"
   },
   "outputs": [],
   "source": [
    "# from google.colab import drive\n",
    "# drive.mount('/content/drive')"
   ]
  },
  {
   "cell_type": "markdown",
   "metadata": {
    "id": "CfDlRlEXUUoK"
   },
   "source": [
    "# Leitura e limpeza dos dados"
   ]
  },
  {
   "cell_type": "code",
   "execution_count": 3,
   "metadata": {
    "colab": {
     "base_uri": "https://localhost:8080/",
     "height": 1000
    },
    "id": "jP9gqcnxUUoM",
    "outputId": "752b4f77-433f-4602-fd61-1d7aef7ec8c0"
   },
   "outputs": [
    {
     "data": {
      "text/html": [
       "<div>\n",
       "<style scoped>\n",
       "    .dataframe tbody tr th:only-of-type {\n",
       "        vertical-align: middle;\n",
       "    }\n",
       "\n",
       "    .dataframe tbody tr th {\n",
       "        vertical-align: top;\n",
       "    }\n",
       "\n",
       "    .dataframe thead th {\n",
       "        text-align: right;\n",
       "    }\n",
       "</style>\n",
       "<table border=\"1\" class=\"dataframe\">\n",
       "  <thead>\n",
       "    <tr style=\"text-align: right;\">\n",
       "      <th></th>\n",
       "      <th>Unnamed: 0</th>\n",
       "      <th>age</th>\n",
       "      <th>workclass</th>\n",
       "      <th>fnlwgt</th>\n",
       "      <th>education</th>\n",
       "      <th>education_num</th>\n",
       "      <th>marital_status</th>\n",
       "      <th>occupation</th>\n",
       "      <th>relationship</th>\n",
       "      <th>race</th>\n",
       "      <th>sex</th>\n",
       "      <th>capital_gain</th>\n",
       "      <th>capital_loss</th>\n",
       "      <th>hours_per_week</th>\n",
       "      <th>native_country</th>\n",
       "      <th>yearly_wage</th>\n",
       "    </tr>\n",
       "  </thead>\n",
       "  <tbody>\n",
       "    <tr>\n",
       "      <th>0</th>\n",
       "      <td>0</td>\n",
       "      <td>50</td>\n",
       "      <td>Self-emp-not-inc</td>\n",
       "      <td>83311</td>\n",
       "      <td>Bachelors</td>\n",
       "      <td>13</td>\n",
       "      <td>Married-civ-spouse</td>\n",
       "      <td>Exec-managerial</td>\n",
       "      <td>Husband</td>\n",
       "      <td>White</td>\n",
       "      <td>Male</td>\n",
       "      <td>0</td>\n",
       "      <td>0</td>\n",
       "      <td>13</td>\n",
       "      <td>United-States</td>\n",
       "      <td>&lt;=50K</td>\n",
       "    </tr>\n",
       "    <tr>\n",
       "      <th>1</th>\n",
       "      <td>1</td>\n",
       "      <td>38</td>\n",
       "      <td>Private</td>\n",
       "      <td>215646</td>\n",
       "      <td>HS-grad</td>\n",
       "      <td>9</td>\n",
       "      <td>Divorced</td>\n",
       "      <td>Handlers-cleaners</td>\n",
       "      <td>Not-in-family</td>\n",
       "      <td>White</td>\n",
       "      <td>Male</td>\n",
       "      <td>0</td>\n",
       "      <td>0</td>\n",
       "      <td>40</td>\n",
       "      <td>United-States</td>\n",
       "      <td>&lt;=50K</td>\n",
       "    </tr>\n",
       "    <tr>\n",
       "      <th>2</th>\n",
       "      <td>2</td>\n",
       "      <td>53</td>\n",
       "      <td>Private</td>\n",
       "      <td>234721</td>\n",
       "      <td>11th</td>\n",
       "      <td>7</td>\n",
       "      <td>Married-civ-spouse</td>\n",
       "      <td>Handlers-cleaners</td>\n",
       "      <td>Husband</td>\n",
       "      <td>Black</td>\n",
       "      <td>Male</td>\n",
       "      <td>0</td>\n",
       "      <td>0</td>\n",
       "      <td>40</td>\n",
       "      <td>United-States</td>\n",
       "      <td>&lt;=50K</td>\n",
       "    </tr>\n",
       "    <tr>\n",
       "      <th>3</th>\n",
       "      <td>3</td>\n",
       "      <td>28</td>\n",
       "      <td>Private</td>\n",
       "      <td>338409</td>\n",
       "      <td>Bachelors</td>\n",
       "      <td>13</td>\n",
       "      <td>Married-civ-spouse</td>\n",
       "      <td>Prof-specialty</td>\n",
       "      <td>Wife</td>\n",
       "      <td>Black</td>\n",
       "      <td>Female</td>\n",
       "      <td>0</td>\n",
       "      <td>0</td>\n",
       "      <td>40</td>\n",
       "      <td>Cuba</td>\n",
       "      <td>&lt;=50K</td>\n",
       "    </tr>\n",
       "    <tr>\n",
       "      <th>4</th>\n",
       "      <td>4</td>\n",
       "      <td>37</td>\n",
       "      <td>Private</td>\n",
       "      <td>284582</td>\n",
       "      <td>Masters</td>\n",
       "      <td>14</td>\n",
       "      <td>Married-civ-spouse</td>\n",
       "      <td>Exec-managerial</td>\n",
       "      <td>Wife</td>\n",
       "      <td>White</td>\n",
       "      <td>Female</td>\n",
       "      <td>0</td>\n",
       "      <td>0</td>\n",
       "      <td>40</td>\n",
       "      <td>United-States</td>\n",
       "      <td>&lt;=50K</td>\n",
       "    </tr>\n",
       "  </tbody>\n",
       "</table>\n",
       "</div>"
      ],
      "text/plain": [
       "   Unnamed: 0  age          workclass  fnlwgt   education  education_num  \\\n",
       "0           0   50   Self-emp-not-inc   83311   Bachelors             13   \n",
       "1           1   38            Private  215646     HS-grad              9   \n",
       "2           2   53            Private  234721        11th              7   \n",
       "3           3   28            Private  338409   Bachelors             13   \n",
       "4           4   37            Private  284582     Masters             14   \n",
       "\n",
       "        marital_status          occupation    relationship    race      sex  \\\n",
       "0   Married-civ-spouse     Exec-managerial         Husband   White     Male   \n",
       "1             Divorced   Handlers-cleaners   Not-in-family   White     Male   \n",
       "2   Married-civ-spouse   Handlers-cleaners         Husband   Black     Male   \n",
       "3   Married-civ-spouse      Prof-specialty            Wife   Black   Female   \n",
       "4   Married-civ-spouse     Exec-managerial            Wife   White   Female   \n",
       "\n",
       "   capital_gain  capital_loss  hours_per_week  native_country yearly_wage  \n",
       "0             0             0              13   United-States       <=50K  \n",
       "1             0             0              40   United-States       <=50K  \n",
       "2             0             0              40   United-States       <=50K  \n",
       "3             0             0              40            Cuba       <=50K  \n",
       "4             0             0              40   United-States       <=50K  "
      ]
     },
     "execution_count": 3,
     "metadata": {},
     "output_type": "execute_result"
    }
   ],
   "source": [
    "wg_data = pd.read_csv('wage_train.csv')\n",
    "wg_data.head()"
   ]
  },
  {
   "cell_type": "code",
   "execution_count": 4,
   "metadata": {
    "colab": {
     "base_uri": "https://localhost:8080/"
    },
    "id": "mIYMOo3VUUoN",
    "outputId": "78294ce1-ab03-40e2-d44a-bb38194a074b",
    "scrolled": false
   },
   "outputs": [
    {
     "name": "stdout",
     "output_type": "stream",
     "text": [
      "<class 'pandas.core.frame.DataFrame'>\n",
      "RangeIndex: 32560 entries, 0 to 32559\n",
      "Data columns (total 16 columns):\n",
      "Unnamed: 0        32560 non-null int64\n",
      "age               32560 non-null int64\n",
      "workclass         32560 non-null object\n",
      "fnlwgt            32560 non-null int64\n",
      "education         32560 non-null object\n",
      "education_num     32560 non-null int64\n",
      "marital_status    32560 non-null object\n",
      "occupation        32560 non-null object\n",
      "relationship      32560 non-null object\n",
      "race              32560 non-null object\n",
      "sex               32560 non-null object\n",
      "capital_gain      32560 non-null int64\n",
      "capital_loss      32560 non-null int64\n",
      "hours_per_week    32560 non-null int64\n",
      "native_country    32560 non-null object\n",
      "yearly_wage       32560 non-null object\n",
      "dtypes: int64(7), object(9)\n",
      "memory usage: 4.0+ MB\n"
     ]
    }
   ],
   "source": [
    "wg_data.info()"
   ]
  },
  {
   "cell_type": "code",
   "execution_count": 5,
   "metadata": {
    "id": "pNfJOZW4UUoN"
   },
   "outputs": [],
   "source": [
    "#Trocando os valores ausentes por valores nulos\n",
    "for col in wg_data.columns:\n",
    "    for idx, row in enumerate(wg_data[col]):\n",
    "        if str.strip(str(row)) == '?':\n",
    "            wg_data.loc[idx, col] = 'Unknown'\n",
    "#Excluindo os valores nulos\n",
    "#wg_data = wg_data.dropna()"
   ]
  },
  {
   "cell_type": "code",
   "execution_count": 6,
   "metadata": {
    "colab": {
     "base_uri": "https://localhost:8080/"
    },
    "id": "d2yZZJd9UUoO",
    "outputId": "9b2f9cb9-dbfc-4fc6-bf9e-07eebf521868",
    "scrolled": true
   },
   "outputs": [
    {
     "name": "stdout",
     "output_type": "stream",
     "text": [
      "<class 'pandas.core.frame.DataFrame'>\n",
      "RangeIndex: 32560 entries, 0 to 32559\n",
      "Data columns (total 16 columns):\n",
      "Unnamed: 0        32560 non-null int64\n",
      "age               32560 non-null int64\n",
      "workclass         32560 non-null object\n",
      "fnlwgt            32560 non-null int64\n",
      "education         32560 non-null object\n",
      "education_num     32560 non-null int64\n",
      "marital_status    32560 non-null object\n",
      "occupation        32560 non-null object\n",
      "relationship      32560 non-null object\n",
      "race              32560 non-null object\n",
      "sex               32560 non-null object\n",
      "capital_gain      32560 non-null int64\n",
      "capital_loss      32560 non-null int64\n",
      "hours_per_week    32560 non-null int64\n",
      "native_country    32560 non-null object\n",
      "yearly_wage       32560 non-null object\n",
      "dtypes: int64(7), object(9)\n",
      "memory usage: 4.0+ MB\n"
     ]
    }
   ],
   "source": [
    "wg_data.info()\n",
    "#wg_data.head(29)"
   ]
  },
  {
   "cell_type": "markdown",
   "metadata": {
    "id": "ja0cLG_0UUoO"
   },
   "source": [
    "# Análise Exploratória"
   ]
  },
  {
   "cell_type": "markdown",
   "metadata": {
    "id": "HLl5lM4IUUoP"
   },
   "source": [
    "## Quantidade de pessoas por idade"
   ]
  },
  {
   "cell_type": "code",
   "execution_count": 7,
   "metadata": {
    "colab": {
     "base_uri": "https://localhost:8080/"
    },
    "id": "_dqhUvQMUUoP",
    "outputId": "3fc00233-5b13-4738-f116-dbd872dddeab",
    "scrolled": true
   },
   "outputs": [
    {
     "data": {
      "text/plain": [
       "17    395\n",
       "18    550\n",
       "19    712\n",
       "20    753\n",
       "21    720\n",
       "     ... \n",
       "85      3\n",
       "86      1\n",
       "87      1\n",
       "88      3\n",
       "90     43\n",
       "Name: age, Length: 73, dtype: int64"
      ]
     },
     "execution_count": 7,
     "metadata": {},
     "output_type": "execute_result"
    }
   ],
   "source": [
    "#Verificando os valores da coluna idade, contando o número de pessoas por idade e organizando o índice\n",
    "idades = wg_data[\"age\"].value_counts()\n",
    "idades.sort_index()"
   ]
  },
  {
   "cell_type": "code",
   "execution_count": 8,
   "metadata": {
    "colab": {
     "base_uri": "https://localhost:8080/",
     "height": 373
    },
    "id": "aTIVv6S9UUoQ",
    "outputId": "346c7b7e-5f44-459f-c226-b18232ab0b0f"
   },
   "outputs": [
    {
     "data": {
      "text/plain": [
       "Text(0.5, 1.0, 'Distribuição de pessoas por faixa etária')"
      ]
     },
     "execution_count": 8,
     "metadata": {},
     "output_type": "execute_result"
    },
    {
     "data": {
      "image/png": "[encoded data removed]",
      "text/plain": [
       "<Figure size 1440x360 with 1 Axes>"
      ]
     },
     "metadata": {
      "needs_background": "light"
     },
     "output_type": "display_data"
    }
   ],
   "source": [
    "#Representando graficamente o número de pessoas por idade para analisar que idades são mais recorrentes nos dados\n",
    "FS = 14\n",
    "g = plt.subplots(figsize = (20,5))\n",
    "plt.xticks(rotation=90)\n",
    "sns.barplot(x=idades.keys(),y=idades.values)\n",
    "plt.xlabel('Idades', size = FS)\n",
    "plt.ylabel('Nº de Pessoas', size = FS)\n",
    "plt.title('Distribuição de pessoas por faixa etária')"
   ]
  },
  {
   "cell_type": "markdown",
   "metadata": {
    "id": "GeVjVtOjUUoR"
   },
   "source": [
    "## Agrupando em faixas etárias"
   ]
  },
  {
   "cell_type": "code",
   "execution_count": 9,
   "metadata": {
    "colab": {
     "base_uri": "https://localhost:8080/",
     "height": 371
    },
    "id": "kifjw_1QUUoR",
    "outputId": "9c8568d3-2899-43f8-8fa5-5c093f6a70e1"
   },
   "outputs": [
    {
     "data": {
      "text/plain": [
       "Text(0.5, 1.0, 'Distribuição de pessoas por faixa etária')"
      ]
     },
     "execution_count": 9,
     "metadata": {},
     "output_type": "execute_result"
    },
    {
     "data": {
      "image/png": "[encoded data removed]",
      "text/plain": [
       "<Figure size 1080x360 with 1 Axes>"
      ]
     },
     "metadata": {
      "needs_background": "light"
     },
     "output_type": "display_data"
    }
   ],
   "source": [
    "#Representando graficamente o número de pessoas por faixas etárias para analisar qual faixa etária é mais recorrente nos dados\n",
    "i = 0\n",
    "faixas_etarias = []\n",
    "while i < len(idades.values):\n",
    "    faixas = idades.values[i:i+10]\n",
    "    #print(faixas, faixas.sum())\n",
    "    faixas_etarias.append(faixas.sum())\n",
    "    i=i+10\n",
    "\n",
    "faixas_etarias\n",
    "faixas_keys = ['17-26', '27-36', '37-46', '47-56', '57-66', '67-76', '77-86', '87-90']\n",
    "g = plt.subplots(figsize = (15,5)) \n",
    "sns.barplot(x=faixas_keys,y=faixas_etarias)\n",
    "plt.xlabel('Faixas Etárias', size = FS)\n",
    "plt.ylabel('Nº de Pessoas', size = FS)\n",
    "plt.title('Distribuição de pessoas por faixa etária')"
   ]
  },
  {
   "cell_type": "markdown",
   "metadata": {
    "id": "gFM0wPQzUUoR"
   },
   "source": [
    "## Agrupando por tipo de trabalho"
   ]
  },
  {
   "cell_type": "code",
   "execution_count": 10,
   "metadata": {
    "colab": {
     "base_uri": "https://localhost:8080/"
    },
    "id": "AySyIyReUUoS",
    "outputId": "286c742a-97ca-45e2-8395-e59c5f6111b7"
   },
   "outputs": [
    {
     "data": {
      "text/plain": [
       " Private             22696\n",
       " Self-emp-not-inc     2541\n",
       " Local-gov            2093\n",
       "Unknown               1836\n",
       " State-gov            1297\n",
       " Self-emp-inc         1116\n",
       " Federal-gov           960\n",
       " Without-pay            14\n",
       " Never-worked            7\n",
       "Name: workclass, dtype: int64"
      ]
     },
     "execution_count": 10,
     "metadata": {},
     "output_type": "execute_result"
    }
   ],
   "source": [
    "#Verificando a coluna \"Tipo de trabalho\" e contando o número de pessoas por categoria, para analisar qual é o tipo de trabalho mais comum nos dados\n",
    "type_work = wg_data['workclass'].value_counts()\n",
    "type_work"
   ]
  },
  {
   "cell_type": "code",
   "execution_count": 11,
   "metadata": {
    "id": "1EgHIzGuUUoS"
   },
   "outputs": [],
   "source": [
    "#Agrupando as categorias de \"Tipo de trabalho\" que estavam muito dispersas e podiam ser representadas em categorias mais amplas\n",
    "jobs = []\n",
    "jobs.append(type_work[2]+type_work[4]+type_work[6])\n",
    "jobs.append(type_work[3]+type_work[7])\n",
    "jobs.append(type_work[0])\n",
    "jobs.append(type_work[1]+type_work[5])\n",
    "jobs_names= [\"Gov_Workers\", \"Unemployed\", \"Private\",\"Self_Emp\"]\n",
    "#print(jobs)"
   ]
  },
  {
   "cell_type": "code",
   "execution_count": 12,
   "metadata": {
    "colab": {
     "base_uri": "https://localhost:8080/",
     "height": 440
    },
    "id": "rYdMkxd5UUoS",
    "outputId": "388c2351-f272-46cc-b9f9-67bef1f1e460",
    "scrolled": true
   },
   "outputs": [
    {
     "data": {
      "text/plain": [
       "Text(0.5, 1.0, 'Distribuição de pessoas por tipo de trabalho')"
      ]
     },
     "execution_count": 12,
     "metadata": {},
     "output_type": "execute_result"
    },
    {
     "data": {
      "image/png": "[encoded data removed]",
      "text/plain": [
       "<Figure size 720x360 with 1 Axes>"
      ]
     },
     "metadata": {
      "needs_background": "light"
     },
     "output_type": "display_data"
    }
   ],
   "source": [
    "#Representando graficamente o número de pessoas por categorias de \"Tipo de trabalho\" mais amplas, para facilitar a visualização de qual setor de trabalho abriga mais pessoaas\n",
    "j = plt.subplots(figsize = (10,5))\n",
    "plt.xticks(rotation=90)\n",
    "sns.barplot(x=jobs_names,y=jobs)\n",
    "plt.yscale('log')\n",
    "plt.xlabel('Tipos de trabalho', size = 14)\n",
    "plt.ylabel('Nº de Pessoas', size = 14)\n",
    "plt.title('Distribuição de pessoas por tipo de trabalho')"
   ]
  },
  {
   "cell_type": "code",
   "execution_count": 13,
   "metadata": {},
   "outputs": [],
   "source": [
    "wg_data['workclass'] = wg_data['workclass'].str.strip()\n",
    "wg_data['workclass'] = wg_data['workclass'].replace(['Local-gov', 'State-gov', 'Federal-gov'], 'Gov_Workers')\n",
    "wg_data['workclass'] = wg_data['workclass'].replace(['Self-emp-not-inc', 'Self-emp-inc'], 'Self_Emp')\n",
    "wg_data['workclass'] = wg_data['workclass'].replace(['Without-pay', 'Never-worked'], 'Unemployed')"
   ]
  },
  {
   "cell_type": "code",
   "execution_count": 14,
   "metadata": {},
   "outputs": [
    {
     "data": {
      "text/plain": [
       "array(['Self_Emp', 'Private', 'Gov_Workers', 'Unknown', 'Unemployed'],\n",
       "      dtype=object)"
      ]
     },
     "execution_count": 14,
     "metadata": {},
     "output_type": "execute_result"
    }
   ],
   "source": [
    "wg_data['workclass'].unique()"
   ]
  },
  {
   "cell_type": "markdown",
   "metadata": {
    "id": "CpDcVhjlUUoT"
   },
   "source": [
    "## Quantidade de pessoas por raça/etnia"
   ]
  },
  {
   "cell_type": "code",
   "execution_count": 15,
   "metadata": {
    "colab": {
     "base_uri": "https://localhost:8080/"
    },
    "id": "iWLeZfyKUUoT",
    "outputId": "6cb3aa16-2339-4b41-e1be-fbff57eed4ec"
   },
   "outputs": [
    {
     "data": {
      "text/plain": [
       "White                 27815\n",
       "Black                  3124\n",
       "Asian-Pac-Islander     1039\n",
       "Amer-Indian-Eskimo      311\n",
       "Other                   271\n",
       "Name: race, dtype: int64"
      ]
     },
     "execution_count": 15,
     "metadata": {},
     "output_type": "execute_result"
    }
   ],
   "source": [
    "#Verificando a coluna \"Raça\" e contando o número de pessoas por categoria, para analisar qual é a raça mais comum nos dados\n",
    "wg_data['race'] = wg_data['race'].str.strip()\n",
    "races = wg_data['race'].value_counts()\n",
    "races"
   ]
  },
  {
   "cell_type": "code",
   "execution_count": 16,
   "metadata": {
    "colab": {
     "base_uri": "https://localhost:8080/"
    },
    "id": "lFUWgVYhUUoT",
    "outputId": "abc9c8d7-7b74-428f-b2ef-4ef02cb275ac"
   },
   "outputs": [
    {
     "data": {
      "text/plain": [
       "Text(0.5, 1.0, 'Distribuição de pessoas por raça')"
      ]
     },
     "execution_count": 16,
     "metadata": {},
     "output_type": "execute_result"
    },
    {
     "data": {
      "image/png": "[encoded data removed]",
      "text/plain": [
       "<Figure size 1440x360 with 1 Axes>"
      ]
     },
     "metadata": {
      "needs_background": "light"
     },
     "output_type": "display_data"
    }
   ],
   "source": [
    "#Representando graficamente o número de pessoas em cada categoria de raça nos dados\n",
    "r = plt.subplots(figsize = (20,5))\n",
    "plt.xticks(rotation=90)\n",
    "sns.barplot(x=races.keys(),y=races.values)\n",
    "plt.xlabel('Raças', size = FS)\n",
    "plt.ylabel('Nº de Pessoas', size = FS)\n",
    "plt.title('Distribuição de pessoas por raça')"
   ]
  },
  {
   "cell_type": "markdown",
   "metadata": {
    "id": "rMqGLIjPUUoU"
   },
   "source": [
    "## Quantidade de pessoas por sexo"
   ]
  },
  {
   "cell_type": "code",
   "execution_count": 17,
   "metadata": {
    "colab": {
     "base_uri": "https://localhost:8080/"
    },
    "id": "lOEo47RfUUoU",
    "outputId": "2c1354b3-816e-4d97-a8c3-9cbd44acb2de"
   },
   "outputs": [
    {
     "data": {
      "text/plain": [
       "Male      21789\n",
       "Female    10771\n",
       "Name: sex, dtype: int64"
      ]
     },
     "execution_count": 17,
     "metadata": {},
     "output_type": "execute_result"
    }
   ],
   "source": [
    "#Verificando a coluna \"Sexo\" e contando o número de pessoas por categoria, para analisar qual é a predominância de sexo nos dados\n",
    "wg_data['sex'] = wg_data['sex'].str.strip()\n",
    "genero = wg_data['sex'].value_counts()\n",
    "genero"
   ]
  },
  {
   "cell_type": "code",
   "execution_count": 18,
   "metadata": {
    "colab": {
     "base_uri": "https://localhost:8080/"
    },
    "id": "Fd1R-urVUUoU",
    "outputId": "036629bc-e48d-4429-d60f-9233fbb21b31"
   },
   "outputs": [
    {
     "data": {
      "text/plain": [
       "Text(0.5, 1.0, 'Distribuição de pessoas por sexo')"
      ]
     },
     "execution_count": 18,
     "metadata": {},
     "output_type": "execute_result"
    },
    {
     "data": {
      "image/png": "[encoded data removed]",
      "text/plain": [
       "<Figure size 1440x360 with 1 Axes>"
      ]
     },
     "metadata": {
      "needs_background": "light"
     },
     "output_type": "display_data"
    }
   ],
   "source": [
    "#Representando graficamente o número de pessoas em cada categoria de sexo \n",
    "g = plt.subplots(figsize = (20,5))\n",
    "plt.xticks(rotation=90)\n",
    "sns.barplot(x=genero.keys(),y=genero.values)\n",
    "plt.xlabel('Sexo', size = FS)\n",
    "plt.ylabel('Nº de Pessoas', size = FS)\n",
    "plt.title('Distribuição de pessoas por sexo')"
   ]
  },
  {
   "cell_type": "markdown",
   "metadata": {
    "id": "dIT93_dnUUoV"
   },
   "source": [
    "## Agrupando por níveis de escolaridade"
   ]
  },
  {
   "cell_type": "code",
   "execution_count": 19,
   "metadata": {
    "colab": {
     "base_uri": "https://localhost:8080/"
    },
    "id": "PxzCojYiUUoV",
    "outputId": "f62dfea6-58c8-4731-f88b-4586ee89808e"
   },
   "outputs": [
    {
     "data": {
      "text/plain": [
       " HS-grad         10501\n",
       " Some-college     7291\n",
       " Bachelors        5354\n",
       " Masters          1723\n",
       " Assoc-voc        1382\n",
       " 11th             1175\n",
       " Assoc-acdm       1067\n",
       " 10th              933\n",
       " 7th-8th           646\n",
       " Prof-school       576\n",
       " 9th               514\n",
       " 12th              433\n",
       " Doctorate         413\n",
       " 5th-6th           333\n",
       " 1st-4th           168\n",
       " Preschool          51\n",
       "Name: education, dtype: int64"
      ]
     },
     "execution_count": 19,
     "metadata": {},
     "output_type": "execute_result"
    }
   ],
   "source": [
    "#Verificando a coluna \"Educação\" e contando o número de pessoas por categoria\n",
    "escolaridade = wg_data['education'].value_counts()\n",
    "escolaridade"
   ]
  },
  {
   "cell_type": "code",
   "execution_count": 20,
   "metadata": {
    "colab": {
     "base_uri": "https://localhost:8080/",
     "height": 235
    },
    "id": "LO3ZDs0yUUoV",
    "outputId": "15ad27d7-b429-4a04-db1c-0c56cb10bab0"
   },
   "outputs": [
    {
     "name": "stdout",
     "output_type": "stream",
     "text": [
      "[1198, 13556, 17806]\n"
     ]
    }
   ],
   "source": [
    "#Agrupando o número de pessoas e nível educacional, que estavam dispersos nas categorias originais, em classes de educação mais amplas p/ facilitar a visualização \n",
    "educacao = []\n",
    "educacao.append(escolaridade[8]+escolaridade[13]+escolaridade[14]+escolaridade[15])\n",
    "educacao.append(escolaridade[0]+escolaridade[5]+escolaridade[7]+escolaridade[11]+escolaridade[10])\n",
    "educacao.append(escolaridade[1]+escolaridade[2]+escolaridade[3]+escolaridade[4]+escolaridade[6]+escolaridade[9]+escolaridade[12])\n",
    "nivel_educacao = [\"Pré Escola e Fundamental\", \"Ens.Médio\", \"Ens.Superior\"]\n",
    "print(educacao)\n"
   ]
  },
  {
   "cell_type": "code",
   "execution_count": 21,
   "metadata": {
    "id": "9r2Rn1EdUUoV"
   },
   "outputs": [
    {
     "data": {
      "text/plain": [
       "Text(0.5, 1.0, 'Distribuição de pessoas por nível de escolaridade')"
      ]
     },
     "execution_count": 21,
     "metadata": {},
     "output_type": "execute_result"
    },
    {
     "data": {
      "image/png": "[encoded data removed]",
      "text/plain": [
       "<Figure size 1440x360 with 1 Axes>"
      ]
     },
     "metadata": {
      "needs_background": "light"
     },
     "output_type": "display_data"
    }
   ],
   "source": [
    "#Representando graficamente o número de pessoas por nível educacional em categorias mais simples\n",
    "e = plt.subplots(figsize = (20,5))\n",
    "plt.xticks(rotation=90)\n",
    "sns.barplot(x=nivel_educacao,y=educacao)\n",
    "plt.xlabel('Nível de escolaridade', size = FS)\n",
    "plt.ylabel('Nº de Pessoas', size = FS)\n",
    "plt.title('Distribuição de pessoas por nível de escolaridade')"
   ]
  },
  {
   "cell_type": "markdown",
   "metadata": {
    "id": "cjgcCQFjUUoW"
   },
   "source": [
    "## Agrupando por ocupação"
   ]
  },
  {
   "cell_type": "code",
   "execution_count": 22,
   "metadata": {
    "id": "6sZJD1OVUUoW"
   },
   "outputs": [
    {
     "data": {
      "text/plain": [
       "Prof-specialty       4140\n",
       "Craft-repair         4099\n",
       "Exec-managerial      4066\n",
       "Adm-clerical         3769\n",
       "Sales                3650\n",
       "Other-service        3295\n",
       "Machine-op-inspct    2002\n",
       "Unknown              1843\n",
       "Transport-moving     1597\n",
       "Handlers-cleaners    1370\n",
       "Farming-fishing       994\n",
       "Tech-support          928\n",
       "Protective-serv       649\n",
       "Priv-house-serv       149\n",
       "Armed-Forces            9\n",
       "Name: occupation, dtype: int64"
      ]
     },
     "execution_count": 22,
     "metadata": {},
     "output_type": "execute_result"
    }
   ],
   "source": [
    "#Verificando a coluna \"Ocupação\" e contando o número de pessoas por categoria, para analisar qual é a ocupação mais comum nos dados\n",
    "wg_data['occupation'] = wg_data['occupation'].str.strip()\n",
    "ocupacao = wg_data['occupation'].value_counts()\n",
    "ocupacao"
   ]
  },
  {
   "cell_type": "code",
   "execution_count": 23,
   "metadata": {
    "id": "KNy6192QUUoW"
   },
   "outputs": [
    {
     "data": {
      "text/plain": [
       "Text(0.5, 1.0, 'Distribuição de pessoas por ocupação')"
      ]
     },
     "execution_count": 23,
     "metadata": {},
     "output_type": "execute_result"
    },
    {
     "data": {
      "image/png": "[encoded data removed]",
      "text/plain": [
       "<Figure size 1440x360 with 1 Axes>"
      ]
     },
     "metadata": {
      "needs_background": "light"
     },
     "output_type": "display_data"
    }
   ],
   "source": [
    "#Representando graficamente o número de pessoas por categoria de ocupação\n",
    "g = plt.subplots(figsize = (20,5))\n",
    "plt.xticks(rotation=90)\n",
    "sns.barplot(x=ocupacao.keys(),y=ocupacao.values)\n",
    "plt.xlabel('Ocupação', size = 14)\n",
    "plt.ylabel('Nº de Pessoas', size = 14)\n",
    "plt.title('Distribuição de pessoas por ocupação')"
   ]
  },
  {
   "cell_type": "markdown",
   "metadata": {
    "id": "mv2d6x3vUUoW"
   },
   "source": [
    "## Agrupando por estado civil"
   ]
  },
  {
   "cell_type": "code",
   "execution_count": 24,
   "metadata": {
    "id": "KUlOzzAmUUoW"
   },
   "outputs": [
    {
     "data": {
      "text/plain": [
       " Married-civ-spouse       14976\n",
       " Never-married            10682\n",
       " Divorced                  4443\n",
       " Separated                 1025\n",
       " Widowed                    993\n",
       " Married-spouse-absent      418\n",
       " Married-AF-spouse           23\n",
       "Name: marital_status, dtype: int64"
      ]
     },
     "execution_count": 24,
     "metadata": {},
     "output_type": "execute_result"
    }
   ],
   "source": [
    "#Verificando a coluna \"Status Civil\" e contando o número de pessoas por categoria, para analisar qual é o status civil mais comum nos dados\n",
    "est_civil = wg_data['marital_status'].value_counts()\n",
    "est_civil"
   ]
  },
  {
   "cell_type": "code",
   "execution_count": 25,
   "metadata": {
    "id": "cOrirMhmUUoW"
   },
   "outputs": [],
   "source": [
    "#Agrupando o número de pessoas e categorias de status civil, que estavam dispersos nas categorias originais, em classes status civil mais amplas p/ facilitar a visualização \n",
    "estado_civil = []\n",
    "estado_civil.append(est_civil[0]+est_civil[5]+est_civil[6])\n",
    "#print(estado_civil)\n",
    "estado_civil.append(est_civil[1])\n",
    "estado_civil.append(est_civil[2])\n",
    "estado_civil.append(est_civil[4])\n",
    "status_civil = [\"Casado\", \"Solteiro\", \"Divorciado\", \"Viúvo\"]"
   ]
  },
  {
   "cell_type": "code",
   "execution_count": 26,
   "metadata": {
    "id": "X4mX_1dVUUoX"
   },
   "outputs": [
    {
     "data": {
      "text/plain": [
       "Text(0.5, 1.0, 'Distribuição de pessoas por estado civil')"
      ]
     },
     "execution_count": 26,
     "metadata": {},
     "output_type": "execute_result"
    },
    {
     "data": {
      "image/png": "[encoded data removed]",
      "text/plain": [
       "<Figure size 1440x360 with 1 Axes>"
      ]
     },
     "metadata": {
      "needs_background": "light"
     },
     "output_type": "display_data"
    }
   ],
   "source": [
    "#Representando graficamente o número de pessoas por novas categorias de status civil mais amplas\n",
    "c = plt.subplots(figsize = (20,5))\n",
    "plt.xticks(rotation=90)\n",
    "sns.barplot(x=status_civil,y=estado_civil)\n",
    "plt.xlabel('Estado Civil', size = FS)\n",
    "plt.ylabel('Nº de Pessoas', size = FS)\n",
    "plt.title('Distribuição de pessoas por estado civil')"
   ]
  },
  {
   "cell_type": "markdown",
   "metadata": {
    "id": "Hfk0Rde2UUoX"
   },
   "source": [
    "## Agrupando por quantidade de horas semanais trabalhadas"
   ]
  },
  {
   "cell_type": "code",
   "execution_count": 27,
   "metadata": {
    "id": "OuVvIHHiUUoX"
   },
   "outputs": [
    {
     "data": {
      "text/plain": [
       "1     20\n",
       "2     32\n",
       "3     39\n",
       "4     54\n",
       "5     60\n",
       "      ..\n",
       "95     2\n",
       "96     5\n",
       "97     2\n",
       "98    11\n",
       "99    85\n",
       "Name: hours_per_week, Length: 94, dtype: int64"
      ]
     },
     "execution_count": 27,
     "metadata": {},
     "output_type": "execute_result"
    }
   ],
   "source": [
    "#Verificando a coluna \"Horas feitas por Semana\" e contando o número de pessoas por categoria, para analisar qual é o valor de horas semanais mais comum nos dados\n",
    "horas_sem = wg_data['hours_per_week'].value_counts()\n",
    "horas_sem.sort_index()"
   ]
  },
  {
   "cell_type": "code",
   "execution_count": 28,
   "metadata": {
    "id": "7f37ZchcUUoX"
   },
   "outputs": [
    {
     "data": {
      "text/plain": [
       "Text(0.5, 1.0, 'Distribuição de pessoas por horas semanais de trabalho')"
      ]
     },
     "execution_count": 28,
     "metadata": {},
     "output_type": "execute_result"
    },
    {
     "data": {
      "image/png": "[encoded data removed]",
      "text/plain": [
       "<Figure size 1440x360 with 1 Axes>"
      ]
     },
     "metadata": {
      "needs_background": "light"
     },
     "output_type": "display_data"
    }
   ],
   "source": [
    "#Representando graficamente o número de pessoas por horas semanais realizadas\n",
    "h = plt.subplots(figsize = (20,5))\n",
    "plt.xticks(rotation=90)\n",
    "sns.barplot(x=horas_sem.keys(),y=horas_sem.values)\n",
    "plt.yscale('log')\n",
    "plt.xlabel('Horas Semanais Trabalhadas', size = FS)\n",
    "plt.ylabel('Nº de Pessoas(Escala Logarítmica)', size = 13) \n",
    "plt.title('Distribuição de pessoas por horas semanais de trabalho')"
   ]
  },
  {
   "cell_type": "markdown",
   "metadata": {
    "id": "uf_pOUlMUUoY"
   },
   "source": [
    "## Quantidade de pessoas por intervalo de horas semanais"
   ]
  },
  {
   "cell_type": "code",
   "execution_count": 29,
   "metadata": {
    "id": "LC6zC_ZxUUoY"
   },
   "outputs": [
    {
     "data": {
      "text/plain": [
       "Text(0.5, 1.0, 'Distribuição de pessoas por intervalos de horas semanais de trabalho')"
      ]
     },
     "execution_count": 29,
     "metadata": {},
     "output_type": "execute_result"
    },
    {
     "data": {
      "image/png": "[encoded data removed]",
      "text/plain": [
       "<Figure size 1440x360 with 1 Axes>"
      ]
     },
     "metadata": {
      "needs_background": "light"
     },
     "output_type": "display_data"
    }
   ],
   "source": [
    "#Agrupando o número de pessoas por horas semanais realizadas em intervalos maiores de horas semanais, para facilitar a visualização pois nos dados originais a categoria de horas semanais contém valores muito dispersos\n",
    "#font size\n",
    "FS = 14\n",
    "\n",
    "n_bins = 10\n",
    "s_horas = horas_sem.sort_index()\n",
    "horas_trab = s_horas.keys()#[0]\n",
    "horas_quant = s_horas.values\n",
    "#print(int(len(s_horas)/n_bins))\n",
    "hora_bar = []\n",
    "hora_label = []\n",
    "tick_label = []\n",
    "for i in range(n_bins):\n",
    "    var_auxiliar = 0\n",
    "    \n",
    "    J_f = int(len(s_horas)/n_bins)\n",
    "    #print((i+1)*J_f)\n",
    "    for j in range(J_f*i ,(i+1)*J_f):\n",
    "        var_auxiliar = var_auxiliar + horas_quant[j]\n",
    "    hora_bar.append(var_auxiliar)\n",
    "    hora_label.append(J_f*(i+1))\n",
    "    tick_label.append(str([J_f*i, J_f*(i+1) -1]))\n",
    "\n",
    "\n",
    "labels = tick_label\n",
    "h = plt.subplots(figsize = (20,5))\n",
    "#plt.xticks(rotation=90)\n",
    "\n",
    "plt.yscale('log')\n",
    "sns.barplot(x=labels,y=hora_bar)\n",
    "plt.xlabel('Intrevalo de horas', size = FS)\n",
    "plt.ylabel('Número de pessoas (Escala Log)', size = FS) \n",
    "plt.title('Distribuição de pessoas por intervalos de horas semanais de trabalho')\n",
    "\n",
    "#h.set_xticklabels(labels)#,rotation='horizontal')"
   ]
  },
  {
   "cell_type": "markdown",
   "metadata": {
    "id": "prMsO8B3UUoY"
   },
   "source": [
    "## Quantidade de pessoas por país"
   ]
  },
  {
   "cell_type": "code",
   "execution_count": 30,
   "metadata": {
    "id": "uId-nLt4UUoY"
   },
   "outputs": [
    {
     "data": {
      "text/plain": [
       " United-States                 29169\n",
       " Mexico                          643\n",
       "Unknown                          583\n",
       " Philippines                     198\n",
       " Germany                         137\n",
       " Canada                          121\n",
       " Puerto-Rico                     114\n",
       " El-Salvador                     106\n",
       " India                           100\n",
       " Cuba                             95\n",
       " England                          90\n",
       " Jamaica                          81\n",
       " South                            80\n",
       " China                            75\n",
       " Italy                            73\n",
       " Dominican-Republic               70\n",
       " Vietnam                          67\n",
       " Guatemala                        64\n",
       " Japan                            62\n",
       " Poland                           60\n",
       " Columbia                         59\n",
       " Taiwan                           51\n",
       " Haiti                            44\n",
       " Iran                             43\n",
       " Portugal                         37\n",
       " Nicaragua                        34\n",
       " Peru                             31\n",
       " France                           29\n",
       " Greece                           29\n",
       " Ecuador                          28\n",
       " Ireland                          24\n",
       " Hong                             20\n",
       " Trinadad&Tobago                  19\n",
       " Cambodia                         19\n",
       " Thailand                         18\n",
       " Laos                             18\n",
       " Yugoslavia                       16\n",
       " Outlying-US(Guam-USVI-etc)       14\n",
       " Honduras                         13\n",
       " Hungary                          13\n",
       " Scotland                         12\n",
       " Holand-Netherlands                1\n",
       "Name: native_country, dtype: int64"
      ]
     },
     "execution_count": 30,
     "metadata": {},
     "output_type": "execute_result"
    }
   ],
   "source": [
    "#Verificando a coluna \"País de Origem\" e contando o número de pessoas por categoria, para analisar qual país é mais representativo na amostra\n",
    "pais = wg_data['native_country'].value_counts()\n",
    "pais"
   ]
  },
  {
   "cell_type": "code",
   "execution_count": 31,
   "metadata": {
    "id": "4xzQPduqUUoY"
   },
   "outputs": [
    {
     "data": {
      "text/plain": [
       "Text(0.5, 1.0, 'Distribuição de pessoas por país')"
      ]
     },
     "execution_count": 31,
     "metadata": {},
     "output_type": "execute_result"
    },
    {
     "data": {
      "image/png": "[encoded data removed]",
      "text/plain": [
       "<Figure size 1440x360 with 1 Axes>"
      ]
     },
     "metadata": {
      "needs_background": "light"
     },
     "output_type": "display_data"
    }
   ],
   "source": [
    "#Representando graficamente a distribuição de pessoas nos dados por países, em escala logarítimica para visualizar melhor os dados que são muito dispersos. \n",
    "h = plt.subplots(figsize = (20,5))\n",
    "plt.xticks(rotation=90)\n",
    "plt.yscale('log')\n",
    "sns.barplot(x=pais.keys(),y=pais.values)\n",
    "#plt.xlabel('Países', size = FS)\n",
    "plt.ylabel('Nº de Pessoas(Escala Logarítmica)', size = 13) \n",
    "plt.title('Distribuição de pessoas por país')"
   ]
  },
  {
   "cell_type": "markdown",
   "metadata": {
    "id": "EaTHOatuUUoZ"
   },
   "source": [
    "## Quantidade de pessoas e salário anual"
   ]
  },
  {
   "cell_type": "code",
   "execution_count": 32,
   "metadata": {
    "id": "hGIwbV62UUoZ"
   },
   "outputs": [
    {
     "data": {
      "text/plain": [
       " <=50K    24719\n",
       " >50K      7841\n",
       "Name: yearly_wage, dtype: int64"
      ]
     },
     "execution_count": 32,
     "metadata": {},
     "output_type": "execute_result"
    }
   ],
   "source": [
    "#Verificando a coluna \"Salário Anual\" e contando o número de pessoas que ganham mais ou menos de 50k, para analisar em qual categoria se concentra os dados \n",
    "salario_anual = wg_data['yearly_wage'].value_counts()\n",
    "salario_anual"
   ]
  },
  {
   "cell_type": "code",
   "execution_count": 33,
   "metadata": {
    "id": "Ie3nF9piUUoZ"
   },
   "outputs": [
    {
     "data": {
      "text/plain": [
       "Text(0.5, 1.0, 'Distribuição de pessoas por salário anual')"
      ]
     },
     "execution_count": 33,
     "metadata": {},
     "output_type": "execute_result"
    },
    {
     "data": {
      "image/png": "[encoded data removed]",
      "text/plain": [
       "<Figure size 720x360 with 1 Axes>"
      ]
     },
     "metadata": {
      "needs_background": "light"
     },
     "output_type": "display_data"
    }
   ],
   "source": [
    "s = plt.subplots(figsize = (10,5))\n",
    "plt.xticks(rotation=90)\n",
    "#plt.yscale('log')\n",
    "sns.barplot(x=salario_anual.keys(),y=salario_anual.values)\n",
    "plt.xlabel('Salário Anual', size = FS)\n",
    "plt.ylabel('Nº de Pessoas', size = 13) \n",
    "plt.title('Distribuição de pessoas por salário anual')"
   ]
  },
  {
   "cell_type": "markdown",
   "metadata": {
    "id": "wLT-doE-UUoZ"
   },
   "source": [
    "## Relação escolaridade/salário \n",
    "### Essa relação foi pensada para descobrir qual é a influência do grau de escolaridade no fator salário, quis saber se ter um maior grau de escolaridade influenciava no fato de ganhar mais que os demais."
   ]
  },
  {
   "cell_type": "code",
   "execution_count": 34,
   "metadata": {
    "id": "sxlfF2Q6UUoZ"
   },
   "outputs": [
    {
     "data": {
      "text/html": [
       "<div>\n",
       "<style scoped>\n",
       "    .dataframe tbody tr th:only-of-type {\n",
       "        vertical-align: middle;\n",
       "    }\n",
       "\n",
       "    .dataframe tbody tr th {\n",
       "        vertical-align: top;\n",
       "    }\n",
       "\n",
       "    .dataframe thead th {\n",
       "        text-align: right;\n",
       "    }\n",
       "</style>\n",
       "<table border=\"1\" class=\"dataframe\">\n",
       "  <thead>\n",
       "    <tr style=\"text-align: right;\">\n",
       "      <th></th>\n",
       "      <th>Unnamed: 0</th>\n",
       "      <th>age</th>\n",
       "      <th>workclass</th>\n",
       "      <th>fnlwgt</th>\n",
       "      <th>education</th>\n",
       "      <th>education_num</th>\n",
       "      <th>marital_status</th>\n",
       "      <th>occupation</th>\n",
       "      <th>relationship</th>\n",
       "      <th>race</th>\n",
       "      <th>sex</th>\n",
       "      <th>capital_gain</th>\n",
       "      <th>capital_loss</th>\n",
       "      <th>hours_per_week</th>\n",
       "      <th>native_country</th>\n",
       "      <th>yearly_wage</th>\n",
       "    </tr>\n",
       "  </thead>\n",
       "  <tbody>\n",
       "    <tr>\n",
       "      <th>0</th>\n",
       "      <td>0</td>\n",
       "      <td>50</td>\n",
       "      <td>Self_Emp</td>\n",
       "      <td>83311</td>\n",
       "      <td>Superior</td>\n",
       "      <td>13</td>\n",
       "      <td>Married-civ-spouse</td>\n",
       "      <td>Exec-managerial</td>\n",
       "      <td>Husband</td>\n",
       "      <td>White</td>\n",
       "      <td>Male</td>\n",
       "      <td>0</td>\n",
       "      <td>0</td>\n",
       "      <td>13</td>\n",
       "      <td>United-States</td>\n",
       "      <td>&lt;=50K</td>\n",
       "    </tr>\n",
       "    <tr>\n",
       "      <th>1</th>\n",
       "      <td>1</td>\n",
       "      <td>38</td>\n",
       "      <td>Private</td>\n",
       "      <td>215646</td>\n",
       "      <td>Medio</td>\n",
       "      <td>9</td>\n",
       "      <td>Divorced</td>\n",
       "      <td>Handlers-cleaners</td>\n",
       "      <td>Not-in-family</td>\n",
       "      <td>White</td>\n",
       "      <td>Male</td>\n",
       "      <td>0</td>\n",
       "      <td>0</td>\n",
       "      <td>40</td>\n",
       "      <td>United-States</td>\n",
       "      <td>&lt;=50K</td>\n",
       "    </tr>\n",
       "    <tr>\n",
       "      <th>2</th>\n",
       "      <td>2</td>\n",
       "      <td>53</td>\n",
       "      <td>Private</td>\n",
       "      <td>234721</td>\n",
       "      <td>Medio</td>\n",
       "      <td>7</td>\n",
       "      <td>Married-civ-spouse</td>\n",
       "      <td>Handlers-cleaners</td>\n",
       "      <td>Husband</td>\n",
       "      <td>Black</td>\n",
       "      <td>Male</td>\n",
       "      <td>0</td>\n",
       "      <td>0</td>\n",
       "      <td>40</td>\n",
       "      <td>United-States</td>\n",
       "      <td>&lt;=50K</td>\n",
       "    </tr>\n",
       "    <tr>\n",
       "      <th>3</th>\n",
       "      <td>3</td>\n",
       "      <td>28</td>\n",
       "      <td>Private</td>\n",
       "      <td>338409</td>\n",
       "      <td>Superior</td>\n",
       "      <td>13</td>\n",
       "      <td>Married-civ-spouse</td>\n",
       "      <td>Prof-specialty</td>\n",
       "      <td>Wife</td>\n",
       "      <td>Black</td>\n",
       "      <td>Female</td>\n",
       "      <td>0</td>\n",
       "      <td>0</td>\n",
       "      <td>40</td>\n",
       "      <td>Cuba</td>\n",
       "      <td>&lt;=50K</td>\n",
       "    </tr>\n",
       "    <tr>\n",
       "      <th>4</th>\n",
       "      <td>4</td>\n",
       "      <td>37</td>\n",
       "      <td>Private</td>\n",
       "      <td>284582</td>\n",
       "      <td>Superior</td>\n",
       "      <td>14</td>\n",
       "      <td>Married-civ-spouse</td>\n",
       "      <td>Exec-managerial</td>\n",
       "      <td>Wife</td>\n",
       "      <td>White</td>\n",
       "      <td>Female</td>\n",
       "      <td>0</td>\n",
       "      <td>0</td>\n",
       "      <td>40</td>\n",
       "      <td>United-States</td>\n",
       "      <td>&lt;=50K</td>\n",
       "    </tr>\n",
       "  </tbody>\n",
       "</table>\n",
       "</div>"
      ],
      "text/plain": [
       "   Unnamed: 0  age workclass  fnlwgt education  education_num  \\\n",
       "0           0   50  Self_Emp   83311  Superior             13   \n",
       "1           1   38   Private  215646     Medio              9   \n",
       "2           2   53   Private  234721     Medio              7   \n",
       "3           3   28   Private  338409  Superior             13   \n",
       "4           4   37   Private  284582  Superior             14   \n",
       "\n",
       "        marital_status         occupation    relationship   race     sex  \\\n",
       "0   Married-civ-spouse    Exec-managerial         Husband  White    Male   \n",
       "1             Divorced  Handlers-cleaners   Not-in-family  White    Male   \n",
       "2   Married-civ-spouse  Handlers-cleaners         Husband  Black    Male   \n",
       "3   Married-civ-spouse     Prof-specialty            Wife  Black  Female   \n",
       "4   Married-civ-spouse    Exec-managerial            Wife  White  Female   \n",
       "\n",
       "   capital_gain  capital_loss  hours_per_week  native_country yearly_wage  \n",
       "0             0             0              13   United-States       <=50K  \n",
       "1             0             0              40   United-States       <=50K  \n",
       "2             0             0              40   United-States       <=50K  \n",
       "3             0             0              40            Cuba       <=50K  \n",
       "4             0             0              40   United-States       <=50K  "
      ]
     },
     "execution_count": 34,
     "metadata": {},
     "output_type": "execute_result"
    }
   ],
   "source": [
    "'''\n",
    " Convertendo os níveis escolares do dataset em 3 categorias e atualiza a coluna 'education' com as novas categorias\n",
    "'''\n",
    "#wg_data = pd.read_csv('wage_train.csv')\n",
    "escolaridades = wg_data['education']\n",
    "#print(escolaridades)\n",
    "escol_aux = []\n",
    "nivel = ''\n",
    "\n",
    "for nivel in escolaridades:\n",
    "    #print(nivel.strip())\n",
    "    if nivel.strip() == '1st-4th' or nivel.strip() == '5th-6th' or nivel.strip() == '7th-8th' or nivel.strip() == 'Preschool':\n",
    "        escol_aux.append('Fundamental')\n",
    "    elif nivel.strip() == 'HS-grad' or nivel.strip() == '9th'or nivel.strip() == '10th' or nivel.strip() == '11th' or nivel.strip() == '12th' or nivel.strip() == 'Prof-school':\n",
    "        escol_aux.append('Medio')\n",
    "    else:\n",
    "        escol_aux.append('Superior')  \n",
    "\n",
    "wg_data['education'] = escol_aux\n",
    "wg_data.head()"
   ]
  },
  {
   "cell_type": "code",
   "execution_count": 35,
   "metadata": {
    "id": "usttqoSWUUoZ"
   },
   "outputs": [
    {
     "data": {
      "text/plain": [
       "Superior       17230\n",
       "Medio          14132\n",
       "Fundamental     1198\n",
       "Name: education, dtype: int64"
      ]
     },
     "execution_count": 35,
     "metadata": {},
     "output_type": "execute_result"
    }
   ],
   "source": [
    "# Total de pessoas em cada nível de educação\n",
    "wg_data.education.value_counts()"
   ]
  },
  {
   "cell_type": "code",
   "execution_count": 36,
   "metadata": {
    "id": "cGBgfIwaUUoa"
   },
   "outputs": [
    {
     "name": "stdout",
     "output_type": "stream",
     "text": [
      "education    yearly_wage\n",
      "Fundamental   <=50K          1136\n",
      "              >50K             62\n",
      "Medio         <=50K         11852\n",
      "              >50K           2280\n",
      "Superior      <=50K         11731\n",
      "              >50K           5499\n",
      "Name: yearly_wage, dtype: int64\n"
     ]
    }
   ],
   "source": [
    "# Para cada nível de escolaridade, número de pessoas de cada categoria de salário\n",
    "educ_group = wg_data.groupby(['education'])['yearly_wage'].value_counts()\n",
    "print(educ_group)"
   ]
  },
  {
   "cell_type": "code",
   "execution_count": 37,
   "metadata": {
    "id": "YehFGvIyUUoa"
   },
   "outputs": [],
   "source": [
    "# Calculando o percentual de pessoas que ganham mais de 50k em cada nível de escolaridade\n",
    "percent_fund = 100*22/552\n",
    "percent_medio = 100*2253/13618\n",
    "percent_sup = 100*5566/18390\n",
    "percents = [percent_fund, percent_medio, percent_sup]\n",
    "faixas_esc = ['Fundamental', 'Medio', 'Superior']"
   ]
  },
  {
   "cell_type": "code",
   "execution_count": 38,
   "metadata": {
    "id": "U7DMnNuOUUoa"
   },
   "outputs": [
    {
     "data": {
      "text/plain": [
       "Text(0, 0.5, 'Porcentagem da amostra')"
      ]
     },
     "execution_count": 38,
     "metadata": {},
     "output_type": "execute_result"
    },
    {
     "data": {
      "image/png": "[encoded data removed]",
      "text/plain": [
       "<Figure size 360x360 with 1 Axes>"
      ]
     },
     "metadata": {
      "needs_background": "light"
     },
     "output_type": "display_data"
    }
   ],
   "source": [
    "#Representando graficamente a relação entre o nível de escolaridade da amostra com salário anual de mais de 50k\n",
    "plt.subplots(figsize = (5,5))\n",
    "plt.grid()\n",
    "plt.xticks(rotation=90)\n",
    "g = sns.barplot(x=faixas_esc, y=percents)\n",
    "plt.title(\"Porcentagem de pessoas que ganham mais de 50k por Nível de escolaridade\", fontsize=14)\n",
    "plt.xlabel('Níveis de Escolaridade', size = FS)\n",
    "plt.ylabel('Porcentagem da amostra', size = 13) \n"
   ]
  },
  {
   "cell_type": "markdown",
   "metadata": {
    "id": "3mheaP6JUUoa"
   },
   "source": [
    "# Relação Horas Trabalhadas por Semana/Salário \n",
    "### Essa relação foi pensada para investigar como o valor de horas trabalhadas se distribuia em relação ao salário anual."
   ]
  },
  {
   "cell_type": "code",
   "execution_count": 39,
   "metadata": {
    "id": "tR4n-VGVUUoa",
    "scrolled": true
   },
   "outputs": [
    {
     "name": "stdout",
     "output_type": "stream",
     "text": [
      "0        13\n",
      "1        40\n",
      "2        40\n",
      "3        40\n",
      "4        40\n",
      "         ..\n",
      "32555    38\n",
      "32556    40\n",
      "32557    40\n",
      "32558    20\n",
      "32559    40\n",
      "Name: hours_per_week, Length: 32560, dtype: int64\n"
     ]
    }
   ],
   "source": [
    "#Verificando a coluna horas feitas por semana e armazenando na variável horas_semanal\n",
    "horas_semanal = wg_data['hours_per_week']\n",
    "print(horas_semanal)"
   ]
  },
  {
   "cell_type": "code",
   "execution_count": 40,
   "metadata": {
    "id": "UeEnZC64UUoa"
   },
   "outputs": [
    {
     "data": {
      "text/plain": [
       "40    15216\n",
       "50     2819\n",
       "45     1824\n",
       "60     1475\n",
       "35     1297\n",
       "      ...  \n",
       "92        1\n",
       "94        1\n",
       "87        1\n",
       "74        1\n",
       "82        1\n",
       "Name: hours_per_week, Length: 94, dtype: int64"
      ]
     },
     "execution_count": 40,
     "metadata": {},
     "output_type": "execute_result"
    }
   ],
   "source": [
    "# Total de pessoas em cada valor de horas semanais trabalhadas\n",
    "wg_data.hours_per_week.value_counts()"
   ]
  },
  {
   "cell_type": "code",
   "execution_count": 41,
   "metadata": {
    "id": "sU9LxW7LUUob"
   },
   "outputs": [
    {
     "name": "stdout",
     "output_type": "stream",
     "text": [
      "0         <=50K\n",
      "1         <=50K\n",
      "2         <=50K\n",
      "3         <=50K\n",
      "4         <=50K\n",
      "          ...  \n",
      "32555     <=50K\n",
      "32556      >50K\n",
      "32557     <=50K\n",
      "32558     <=50K\n",
      "32559      >50K\n",
      "Name: yearly_wage, Length: 32560, dtype: object\n"
     ]
    }
   ],
   "source": [
    "#Verificando a coluna salário anual\n",
    "salario = wg_data['yearly_wage']\n",
    "print(salario)"
   ]
  },
  {
   "cell_type": "code",
   "execution_count": 42,
   "metadata": {
    "id": "ki0kibiJUUob",
    "scrolled": true
   },
   "outputs": [],
   "source": [
    "# Separando as horas trabalhadas por cada categoria de salário\n",
    "horas_mais50 = wg_data[wg_data['yearly_wage'].str.strip() == '>50K']['hours_per_week'].unique()\n",
    "horas_menos50 = wg_data[wg_data['yearly_wage'].str.strip() == '<=50K']['hours_per_week'].unique()\n",
    "#print(horas_mais50)\n",
    "#print(horas_menos50)\n",
    "# Para cada ocupacao, número de pessoas de cada categoria de salário \n",
    "horas_sal_group = wg_data.groupby(['hours_per_week'])['yearly_wage'].value_counts() \n",
    "horas = wg_data['hours_per_week'].unique()\n",
    "#display(horas_sal_group)\n",
    "#print(horas_sal_group[ [(45, ' >50K')][0]])\n",
    "\n",
    "mais_50 = []\n",
    "menos_50 = [] \n",
    "a = 1 \n",
    "for i in horas:\n",
    "    if i in (horas_mais50):\n",
    "        mais_50.append(horas_sal_group[[(i, ' >50K')][0]])\n",
    "    if i in(horas_menos50):\n",
    "        menos_50.append(horas_sal_group[[(i, ' <=50K')][0]])\n",
    "\n",
    "#print(mais_50)\n",
    "#print(menos_50)"
   ]
  },
  {
   "cell_type": "code",
   "execution_count": 43,
   "metadata": {
    "id": "CbUgj8MrUUob"
   },
   "outputs": [
    {
     "data": {
      "text/plain": [
       "Text(0, 0.5, 'Nº de Pessoas(Escala Log)')"
      ]
     },
     "execution_count": 43,
     "metadata": {},
     "output_type": "execute_result"
    },
    {
     "data": {
      "image/png": "[encoded data removed]",
      "text/plain": [
       "<Figure size 1440x360 with 1 Axes>"
      ]
     },
     "metadata": {
      "needs_background": "light"
     },
     "output_type": "display_data"
    }
   ],
   "source": [
    "#Representando graficamente o número de pessoas por horas semanais realizadas que ganham mais de 50k\n",
    "plt.subplots(figsize = (20,5))\n",
    "plt.grid()\n",
    "plt.yscale('log')\n",
    "plt.xticks(rotation=90)\n",
    "g = plt.bar(horas_mais50, mais_50)\n",
    "plt.title(\"Número de pessoas que ganham mais de 50k e horas semanais\", fontsize=14)\n",
    "plt.xlabel('Horas Semanais Trabalhadas', size = FS)\n",
    "plt.ylabel('Nº de Pessoas(Escala Log)', size = 13) \n"
   ]
  },
  {
   "cell_type": "code",
   "execution_count": 44,
   "metadata": {
    "id": "mT7mfgaDUUob"
   },
   "outputs": [
    {
     "data": {
      "text/plain": [
       "Text(0, 0.5, 'Nº de Pessoas')"
      ]
     },
     "execution_count": 44,
     "metadata": {},
     "output_type": "execute_result"
    },
    {
     "data": {
      "image/png": "[encoded data removed]",
      "text/plain": [
       "<Figure size 1440x360 with 1 Axes>"
      ]
     },
     "metadata": {
      "needs_background": "light"
     },
     "output_type": "display_data"
    }
   ],
   "source": [
    "#Representando graficamente o número de pessoas por horas semanais realizadas que ganham menos de 50k\n",
    "plt.subplots(figsize = (20,5))\n",
    "plt.grid()\n",
    "plt.yscale('log')\n",
    "plt.xticks(rotation=90)\n",
    "g = plt.bar(horas_menos50, menos_50)\n",
    "plt.title(\"Número de pessoas que ganham menos de 50k e horas semanais\", fontsize=14)\n",
    "plt.xlabel('Horas Semanais Trabalhadas', size = FS)\n",
    "plt.ylabel('Nº de Pessoas', size = 13) "
   ]
  },
  {
   "cell_type": "markdown",
   "metadata": {
    "id": "WNKlV_zNUUob"
   },
   "source": [
    "## Relação sexo/salário\n",
    "### Essa relação foi pensanda para analisar a distribuição de homens e mulheres que ganham mais de 50k"
   ]
  },
  {
   "cell_type": "code",
   "execution_count": 45,
   "metadata": {
    "id": "4d9MF5k1UUoc"
   },
   "outputs": [
    {
     "name": "stdout",
     "output_type": "stream",
     "text": [
      "0          Male\n",
      "1          Male\n",
      "2          Male\n",
      "3        Female\n",
      "4        Female\n",
      "          ...  \n",
      "32555    Female\n",
      "32556      Male\n",
      "32557    Female\n",
      "32558      Male\n",
      "32559    Female\n",
      "Name: sex, Length: 32560, dtype: object\n"
     ]
    }
   ],
   "source": [
    "#Armazenando a coluna 'sex' na variável sexo \n",
    "sexo = wg_data['sex']\n",
    "print(sexo)"
   ]
  },
  {
   "cell_type": "code",
   "execution_count": 46,
   "metadata": {
    "id": "QD1wW9ffUUoc"
   },
   "outputs": [
    {
     "data": {
      "text/plain": [
       "Male      21789\n",
       "Female    10771\n",
       "Name: sex, dtype: int64"
      ]
     },
     "execution_count": 46,
     "metadata": {},
     "output_type": "execute_result"
    }
   ],
   "source": [
    "#Verificando e contando o número de pessoas por categoria  \n",
    "wg_data.sex.value_counts()"
   ]
  },
  {
   "cell_type": "code",
   "execution_count": 47,
   "metadata": {
    "id": "I_jCn6vlUUoc"
   },
   "outputs": [
    {
     "name": "stdout",
     "output_type": "stream",
     "text": [
      "sex     yearly_wage\n",
      "Female   <=50K          9592\n",
      "         >50K           1179\n",
      "Male     <=50K         15127\n",
      "         >50K           6662\n",
      "Name: yearly_wage, dtype: int64\n"
     ]
    }
   ],
   "source": [
    "# Para cada sexo, número de pessoas de cada categoria de salário\n",
    "sexo_group = wg_data.groupby(['sex'])['yearly_wage'].value_counts()\n",
    "print(sexo_group)"
   ]
  },
  {
   "cell_type": "code",
   "execution_count": 48,
   "metadata": {
    "id": "EuAoJ2G2UUoc"
   },
   "outputs": [],
   "source": [
    "# Calculando o percentual de pessoas por sexo que ganham mais de 50k\n",
    "percent_female = (1179./(1179+6662.))*100\n",
    "percent_male = (6662./(6662+1179.))*100\n",
    "percents = [percent_female, percent_male]\n",
    "sexos = ['Mulheres', 'Homens']"
   ]
  },
  {
   "cell_type": "code",
   "execution_count": 49,
   "metadata": {
    "id": "P5foDVBDUUoc"
   },
   "outputs": [
    {
     "data": {
      "text/plain": [
       "Text(0, 0.5, 'Percentual de Pessoas')"
      ]
     },
     "execution_count": 49,
     "metadata": {},
     "output_type": "execute_result"
    },
    {
     "data": {
      "image/png": "[encoded data removed]",
      "text/plain": [
       "<Figure size 360x360 with 1 Axes>"
      ]
     },
     "metadata": {
      "needs_background": "light"
     },
     "output_type": "display_data"
    }
   ],
   "source": [
    "#Representando graficamente a distribuição de homens e mulherees que ganham mais de 50k\n",
    "plt.subplots(figsize = (5,5))\n",
    "plt.grid()\n",
    "plt.xticks(rotation=90)\n",
    "g = sns.barplot(x=sexos, y=percents)\n",
    "plt.title(\"Percentual da diferença entre mulheres e homens que ganham mais de 50k\", fontsize=14)\n",
    "plt.xlabel('Sexo', size = FS)\n",
    "plt.ylabel('Percentual de Pessoas', size = 13) \n"
   ]
  },
  {
   "cell_type": "markdown",
   "metadata": {
    "id": "hgOMDkj7UUoc"
   },
   "source": [
    "## Relação  Raça/Salário\n",
    "### Essa relação foi pensada para analisar a distribuição da raça das pessoas na amostra em relação ao salário anual maior que 50k \n",
    "    "
   ]
  },
  {
   "cell_type": "code",
   "execution_count": 50,
   "metadata": {
    "id": "TthpqEkcUUoc"
   },
   "outputs": [
    {
     "name": "stdout",
     "output_type": "stream",
     "text": [
      "0        White\n",
      "1        White\n",
      "2        Black\n",
      "3        Black\n",
      "4        White\n",
      "         ...  \n",
      "32555    White\n",
      "32556    White\n",
      "32557    White\n",
      "32558    White\n",
      "32559    White\n",
      "Name: race, Length: 32560, dtype: object\n"
     ]
    }
   ],
   "source": [
    "#Verificando a coluna raça e armazenando na variável etnia\n",
    "etnia = wg_data['race']\n",
    "print(etnia)"
   ]
  },
  {
   "cell_type": "code",
   "execution_count": 51,
   "metadata": {
    "id": "rG29hPnZUUod"
   },
   "outputs": [
    {
     "data": {
      "text/plain": [
       "White                 27815\n",
       "Black                  3124\n",
       "Asian-Pac-Islander     1039\n",
       "Amer-Indian-Eskimo      311\n",
       "Other                   271\n",
       "Name: race, dtype: int64"
      ]
     },
     "execution_count": 51,
     "metadata": {},
     "output_type": "execute_result"
    }
   ],
   "source": [
    "#Contando o número de pessoas por categoria \n",
    "wg_data.race.value_counts()"
   ]
  },
  {
   "cell_type": "code",
   "execution_count": 52,
   "metadata": {
    "id": "0HPkeURsUUod"
   },
   "outputs": [
    {
     "name": "stdout",
     "output_type": "stream",
     "text": [
      "race                yearly_wage\n",
      "Amer-Indian-Eskimo   <=50K           275\n",
      "                     >50K             36\n",
      "Asian-Pac-Islander   <=50K           763\n",
      "                     >50K            276\n",
      "Black                <=50K          2737\n",
      "                     >50K            387\n",
      "Other                <=50K           246\n",
      "                     >50K             25\n",
      "White                <=50K         20698\n",
      "                     >50K           7117\n",
      "Name: yearly_wage, dtype: int64\n"
     ]
    }
   ],
   "source": [
    "#Agrupando o número de pessoas por raça com os valores de salário anuais\n",
    "race_group = wg_data.groupby(['race'])['yearly_wage'].value_counts()\n",
    "print(race_group)"
   ]
  },
  {
   "cell_type": "code",
   "execution_count": 53,
   "metadata": {
    "id": "w7HN6amVUUod"
   },
   "outputs": [],
   "source": [
    "# Calculando o percentual de pessoas que ganham mais de 50k por raça\n",
    "percent_white = 100*7117/27815\n",
    "percent_black = 100*387/3124\n",
    "percent_asian_pac_islander = 100*276/1039\n",
    "percent_amer_indian_eskimo = 100*36/311\n",
    "percent_other = 100*25/271\n",
    "percentuais = [percent_white, percent_black, percent_asian_pac_islander, percent_amer_indian_eskimo, percent_other]\n",
    "etnias = ['White', 'Black', 'Asian-Pac-Islander','Black', 'Other']\n",
    "\n",
    "\n",
    "#print(percentuais)\n",
    "#print(etnias)"
   ]
  },
  {
   "cell_type": "code",
   "execution_count": 54,
   "metadata": {
    "id": "OEiqkM0SUUod"
   },
   "outputs": [
    {
     "data": {
      "text/plain": [
       "Text(0, 0.5, 'Percentual de Pessoas')"
      ]
     },
     "execution_count": 54,
     "metadata": {},
     "output_type": "execute_result"
    },
    {
     "data": {
      "image/png": "[encoded data removed]",
      "text/plain": [
       "<Figure size 360x360 with 1 Axes>"
      ]
     },
     "metadata": {
      "needs_background": "light"
     },
     "output_type": "display_data"
    }
   ],
   "source": [
    "#Representando graficamente a distrbuição raça/salário anual\n",
    "plt.subplots(figsize = (5,5))\n",
    "plt.grid()\n",
    "plt.xticks(rotation=90)\n",
    "g = sns.barplot(x=etnias, y=percentuais)\n",
    "plt.title(\"Percentual de pessoas que ganham mais de 50k por raça\", fontsize=14)\n",
    "plt.xlabel('Raças', size = FS)\n",
    "plt.ylabel('Percentual de Pessoas', size = 13) "
   ]
  },
  {
   "cell_type": "markdown",
   "metadata": {},
   "source": [
    "# Modelo de Predição\n",
    "\n",
    "A previsão do salário a partir dos dados foram feitas através da implementação do algoritimo de aprendizado supervisionado Random Forest, utilizando as variáveis 'age','workclass', 'education', 'occupation', 'race', 'sex' e 'hours_per_week'. Optei pela seleção dessas variáveis pois pareceram ser os dados mais relevantes para prever o salário.\n",
    " \n",
    "As colunas como: 'marital_status' e 'relationship' não pareciam ter grande influência sobre o salário, além de que 'relationship' apresentava dados redundantes, 'marital_status' e a coluna 'sex' são suficientes para avaliar o papel de um individuo na família. \n",
    "'Capital_gain e Capital_loss' são colunas que apresentavam dados em sua maioria zerados, então foram excluídas.\n",
    "Já as colunas 'fnlwgt' e 'education_num' não eram auto explicativas e representavam pesos, eram variáveis contínuas em função das outras variáveis discretas, então para simplificar a análise, foram descartadas.\n",
    "A coluna 'Native_Country' também foi excluída do treinamento e teste, pois foi visto nos dados que a maioria de pessoas são dos Estados Unidos.\n",
    "\n",
    "Algumas das transformações feitas foram a agregação de algumas categorias dispersas em 3 categorias maiores em colunas como 'education', isso foi feito para facilicar a transformação dessas categorias em dados binários para treinar e testar o algoritimo. \n",
    "\n",
    "Entendi que o tipo de problema que estavámos resolvendo era do tipo de classificação, uma vez que, a coluna a ser prevista continha dados categórios: maior ou menor que 50k. Por isso foi optado pelo modelo Random Forest. \n",
    "\n",
    " Explicando um pouco melhor, o Random Forest é um algoritmo de aprendizado supervisionado. Ele constrói uma floresta com um conjunto de árvores de decisão. É um algoritmo de aprendizado de máquina fácil de usar que produz um ótimo resultado na maioria das vezes, mesmo sem ajuste de hiperparâmetro.\n",
    " O algoritimo trata-se de técnicas de perturbação e combinação especificamente projetadas para árvores. Isso significa que um conjunto diversificado de classificadores é criado pela introdução de aleatoriedade na construção do classificador. A previsão do conjunto é dada como a previsão média dos classificadores individuais. Cada árvore no conjunto é construída a partir de uma amostra extraída com substituição (ou seja, uma amostra bootstrap) do conjunto de treinamento.\n",
    " Além disso, ao dividir cada nó durante a construção de uma árvore, a melhor divisão é encontrada em todos os recursos de entrada ou em um subconjunto aleatório de tamanho max_features. \n",
    " O objetivo dessas duas fontes de aleatoriedade é diminuir a variância do estimador florestal. De fato, as árvores de decisão individuais normalmente exibem alta variância e tendem a se ajustar demais. A aleatoriedade injetada nas florestas produz árvores de decisão com erros de previsão um tanto desacoplados. Fazendo uma média dessas previsões, alguns erros podem ser cancelados. Florestas aleatórias atingem uma variação reduzida combinando diversas árvores, às vezes ao custo de um leve aumento no viés. Na prática, a redução da variância é muitas vezes significativa, resultando em um modelo geral melhor.\n",
    "\n",
    "Prós:\n",
    "- Random Forest podem ser usadas para tarefas de classificação e regressão.\n",
    "- O modelo funciona bem com dados categóricos e numéricos. \n",
    "- Normalmente, nenhuma escala ou transformação de variáveis é necessária.\n",
    "- Ele executa implicitamente a seleção de recursos e geram árvores de decisão não correlacionadas. Ele faz isso escolhendo um conjunto aleatório de recursos para construir cada árvore de decisão. Isso também o torna um ótimo modelo quando você precisa trabalhar com um grande número de recursos nos dados.\n",
    "- As \"Random Forest\" não são influenciadas por valores discrepantes em um grau razoável. Ele faz isso categorizando as variáveis.\n",
    "- O modelo também  lida bem com relacionamentos lineares e não lineares.\n",
    "- Además, geralmente fornecem alta precisão e equilibram bem o equilíbrio entre viés e variância. Como o princípio do modelo é calcular a média dos resultados nas várias árvores de decisão que ele constrói, ele também calcula a média da variância.\n",
    "\n",
    "Contras:\n",
    "- Random Forests não são facilmente interpretáveis. Eles fornecem a importância do recurso, mas não fornecem visibilidade completa dos coeficientes como regressão linear.\n",
    "- O modelo pode ser computacionalmente intensivo para grandes conjuntos de dados.\n",
    "- Además, é como um algoritmo de caixa preta, você tem muito pouco controle sobre o que o modelo faz.\n",
    "\n",
    "Fonte: https://scikit-learn.org/stable/modules/ensemble.html#forest\n",
    "\n",
    "A medida de performance escolhida foi a acurácia porque se trata de um problema de clássico de classificação, e a acurácia indica uma performance geral do modelo. Dentre todas as classificações, quantas o modelo classificou corretamente. \n"
   ]
  },
  {
   "cell_type": "markdown",
   "metadata": {},
   "source": [
    "## Funções de Preparação dos Dados e de divisão dos conjuntos de entrada e saida"
   ]
  },
  {
   "cell_type": "code",
   "execution_count": 74,
   "metadata": {},
   "outputs": [],
   "source": [
    "#Selecionando e codificando as colunas que serão utilizadas\n",
    "def prepareData(df):\n",
    "    df = df[['age','workclass', 'education', 'occupation', 'race', 'sex', 'hours_per_week', 'yearly_wage']]\n",
    "    df_num =  pd.DataFrame(columns=['age','workclass', 'education', 'occupation', 'race', 'sex', 'hours_per_week', 'yearly_wage'])\n",
    "    df_num = pd.get_dummies(data = df,\n",
    "        columns = ['workclass', 'education', 'occupation', 'race', 'sex'],\n",
    "        prefix = ['workclass', 'education', 'occupation', 'race', 'sex'] \n",
    "    )\n",
    "    return df_num"
   ]
  },
  {
   "cell_type": "code",
   "execution_count": 75,
   "metadata": {},
   "outputs": [],
   "source": [
    "#Divindo a entrada e saída para o modelo\n",
    "def dataSplit(df):\n",
    "\n",
    "    y = np.asarray(list(df['yearly_wage'].str.strip()))\n",
    "    X = df.drop('yearly_wage', axis=1)\n",
    "\n",
    "    y_bin = [1 if value == \">50K\" else 0 for value in y]\n",
    "\n",
    "    return X, np.asarray(y_bin)"
   ]
  },
  {
   "cell_type": "code",
   "execution_count": 76,
   "metadata": {},
   "outputs": [
    {
     "name": "stdout",
     "output_type": "stream",
     "text": [
      "(32560, 32) (32560,)\n"
     ]
    }
   ],
   "source": [
    "#Aplicando as funções\n",
    "wg_data_num = prepareData(wg_data)\n",
    "\n",
    "X, y = dataSplit(wg_data_num)\n",
    "print(X.shape, y.shape)"
   ]
  },
  {
   "cell_type": "markdown",
   "metadata": {},
   "source": [
    "## Treinamento do Modelo usando KFold para divisão dos conjuntos de Treino e Validação"
   ]
  },
  {
   "cell_type": "code",
   "execution_count": 77,
   "metadata": {},
   "outputs": [
    {
     "name": "stdout",
     "output_type": "stream",
     "text": [
      "Fold: 1 - Accuracy: 76.5970515970516%\n",
      "Fold: 2 - Accuracy: 77.33415233415234%\n",
      "Fold: 3 - Accuracy: 77.94840294840296%\n",
      "Fold: 4 - Accuracy: 77.85626535626535%\n",
      "Fold: 5 - Accuracy: 78.992628992629%\n",
      "Fold: 6 - Accuracy: 78.16339066339066%\n",
      "Fold: 7 - Accuracy: 78.07125307125307%\n",
      "Fold: 8 - Accuracy: 78.4090909090909%\n",
      "Fold: 9 - Accuracy: 78.50122850122851%\n",
      "Fold: 10 - Accuracy: 77.85626535626535%\n",
      "Acuracia Média: 77.97297297297297%\n",
      "Melhor Acuracia 78.992628992629%\n"
     ]
    }
   ],
   "source": [
    "#Importando as bibliotecas do modelo e métricas de performances\n",
    "from sklearn.ensemble import RandomForestClassifier\n",
    "from sklearn.metrics import accuracy_score\n",
    "from sklearn.model_selection import KFold\n",
    "\n",
    "#Treinamento do modelo\n",
    "mean_acc=0\n",
    "kf = KFold(n_splits=10)\n",
    "kf.get_n_splits(X)\n",
    "clf = RandomForestClassifier(max_features= \"sqrt\",  random_state=3232)\n",
    "bestModel = None\n",
    "bestAcc = 0\n",
    "i = 0\n",
    "for train_index, val_index in kf.split(X):\n",
    "    i += 1\n",
    "    X_train, X_val = X.iloc[train_index], X.iloc[val_index]\n",
    "    y_train, y_val = y[train_index], y[val_index]\n",
    "    clf.fit(X_train, y_train)\n",
    "    predictions = clf.predict(X_val)\n",
    "    acc = (100*accuracy_score(y_val, predictions))\n",
    "    print(\"Fold: %i\" % i  + \" - Accuracy: %s%%\" % acc)\n",
    "    if acc > bestAcc:\n",
    "        bestModel = clf\n",
    "        bestAcc = acc\n",
    "    mean_acc += acc\n",
    "    #print(classification_report(y_val, predictions))\n",
    "print(\"Acuracia Média: %s%%\" % (mean_acc/i))\n",
    "print(\"Melhor Acuracia %s%%\" % bestAcc)"
   ]
  },
  {
   "cell_type": "markdown",
   "metadata": {},
   "source": [
    "## Tratamento do Conjunto de Testes"
   ]
  },
  {
   "cell_type": "code",
   "execution_count": 70,
   "metadata": {},
   "outputs": [
    {
     "data": {
      "text/html": [
       "<div>\n",
       "<style scoped>\n",
       "    .dataframe tbody tr th:only-of-type {\n",
       "        vertical-align: middle;\n",
       "    }\n",
       "\n",
       "    .dataframe tbody tr th {\n",
       "        vertical-align: top;\n",
       "    }\n",
       "\n",
       "    .dataframe thead th {\n",
       "        text-align: right;\n",
       "    }\n",
       "</style>\n",
       "<table border=\"1\" class=\"dataframe\">\n",
       "  <thead>\n",
       "    <tr style=\"text-align: right;\">\n",
       "      <th></th>\n",
       "      <th>Unnamed: 0</th>\n",
       "      <th>age</th>\n",
       "      <th>workclass</th>\n",
       "      <th>fnlwgt</th>\n",
       "      <th>education</th>\n",
       "      <th>education_num</th>\n",
       "      <th>marital_status</th>\n",
       "      <th>occupation</th>\n",
       "      <th>relationship</th>\n",
       "      <th>race</th>\n",
       "      <th>sex</th>\n",
       "      <th>capital_gain</th>\n",
       "      <th>capital_loss</th>\n",
       "      <th>hours_per_week</th>\n",
       "      <th>native_country</th>\n",
       "    </tr>\n",
       "  </thead>\n",
       "  <tbody>\n",
       "    <tr>\n",
       "      <th>0</th>\n",
       "      <td>0</td>\n",
       "      <td>38</td>\n",
       "      <td>Private</td>\n",
       "      <td>89814</td>\n",
       "      <td>HS-grad</td>\n",
       "      <td>9</td>\n",
       "      <td>Married-civ-spouse</td>\n",
       "      <td>Farming-fishing</td>\n",
       "      <td>Husband</td>\n",
       "      <td>White</td>\n",
       "      <td>Male</td>\n",
       "      <td>0</td>\n",
       "      <td>0</td>\n",
       "      <td>50</td>\n",
       "      <td>United-States</td>\n",
       "    </tr>\n",
       "    <tr>\n",
       "      <th>1</th>\n",
       "      <td>1</td>\n",
       "      <td>28</td>\n",
       "      <td>Local-gov</td>\n",
       "      <td>336951</td>\n",
       "      <td>Assoc-acdm</td>\n",
       "      <td>12</td>\n",
       "      <td>Married-civ-spouse</td>\n",
       "      <td>Protective-serv</td>\n",
       "      <td>Husband</td>\n",
       "      <td>White</td>\n",
       "      <td>Male</td>\n",
       "      <td>0</td>\n",
       "      <td>0</td>\n",
       "      <td>40</td>\n",
       "      <td>United-States</td>\n",
       "    </tr>\n",
       "    <tr>\n",
       "      <th>2</th>\n",
       "      <td>2</td>\n",
       "      <td>44</td>\n",
       "      <td>Private</td>\n",
       "      <td>160323</td>\n",
       "      <td>Some-college</td>\n",
       "      <td>10</td>\n",
       "      <td>Married-civ-spouse</td>\n",
       "      <td>Machine-op-inspct</td>\n",
       "      <td>Husband</td>\n",
       "      <td>Black</td>\n",
       "      <td>Male</td>\n",
       "      <td>7688</td>\n",
       "      <td>0</td>\n",
       "      <td>40</td>\n",
       "      <td>United-States</td>\n",
       "    </tr>\n",
       "    <tr>\n",
       "      <th>3</th>\n",
       "      <td>3</td>\n",
       "      <td>18</td>\n",
       "      <td>?</td>\n",
       "      <td>103497</td>\n",
       "      <td>Some-college</td>\n",
       "      <td>10</td>\n",
       "      <td>Never-married</td>\n",
       "      <td>?</td>\n",
       "      <td>Own-child</td>\n",
       "      <td>White</td>\n",
       "      <td>Female</td>\n",
       "      <td>0</td>\n",
       "      <td>0</td>\n",
       "      <td>30</td>\n",
       "      <td>United-States</td>\n",
       "    </tr>\n",
       "    <tr>\n",
       "      <th>4</th>\n",
       "      <td>4</td>\n",
       "      <td>34</td>\n",
       "      <td>Private</td>\n",
       "      <td>198693</td>\n",
       "      <td>10th</td>\n",
       "      <td>6</td>\n",
       "      <td>Never-married</td>\n",
       "      <td>Other-service</td>\n",
       "      <td>Not-in-family</td>\n",
       "      <td>White</td>\n",
       "      <td>Male</td>\n",
       "      <td>0</td>\n",
       "      <td>0</td>\n",
       "      <td>30</td>\n",
       "      <td>United-States</td>\n",
       "    </tr>\n",
       "    <tr>\n",
       "      <th>...</th>\n",
       "      <td>...</td>\n",
       "      <td>...</td>\n",
       "      <td>...</td>\n",
       "      <td>...</td>\n",
       "      <td>...</td>\n",
       "      <td>...</td>\n",
       "      <td>...</td>\n",
       "      <td>...</td>\n",
       "      <td>...</td>\n",
       "      <td>...</td>\n",
       "      <td>...</td>\n",
       "      <td>...</td>\n",
       "      <td>...</td>\n",
       "      <td>...</td>\n",
       "      <td>...</td>\n",
       "    </tr>\n",
       "    <tr>\n",
       "      <th>16275</th>\n",
       "      <td>16275</td>\n",
       "      <td>39</td>\n",
       "      <td>Private</td>\n",
       "      <td>215419</td>\n",
       "      <td>Bachelors</td>\n",
       "      <td>13</td>\n",
       "      <td>Divorced</td>\n",
       "      <td>Prof-specialty</td>\n",
       "      <td>Not-in-family</td>\n",
       "      <td>White</td>\n",
       "      <td>Female</td>\n",
       "      <td>0</td>\n",
       "      <td>0</td>\n",
       "      <td>36</td>\n",
       "      <td>United-States</td>\n",
       "    </tr>\n",
       "    <tr>\n",
       "      <th>16276</th>\n",
       "      <td>16276</td>\n",
       "      <td>64</td>\n",
       "      <td>?</td>\n",
       "      <td>321403</td>\n",
       "      <td>HS-grad</td>\n",
       "      <td>9</td>\n",
       "      <td>Widowed</td>\n",
       "      <td>?</td>\n",
       "      <td>Other-relative</td>\n",
       "      <td>Black</td>\n",
       "      <td>Male</td>\n",
       "      <td>0</td>\n",
       "      <td>0</td>\n",
       "      <td>40</td>\n",
       "      <td>United-States</td>\n",
       "    </tr>\n",
       "    <tr>\n",
       "      <th>16277</th>\n",
       "      <td>16277</td>\n",
       "      <td>38</td>\n",
       "      <td>Private</td>\n",
       "      <td>374983</td>\n",
       "      <td>Bachelors</td>\n",
       "      <td>13</td>\n",
       "      <td>Married-civ-spouse</td>\n",
       "      <td>Prof-specialty</td>\n",
       "      <td>Husband</td>\n",
       "      <td>White</td>\n",
       "      <td>Male</td>\n",
       "      <td>0</td>\n",
       "      <td>0</td>\n",
       "      <td>50</td>\n",
       "      <td>United-States</td>\n",
       "    </tr>\n",
       "    <tr>\n",
       "      <th>16278</th>\n",
       "      <td>16278</td>\n",
       "      <td>44</td>\n",
       "      <td>Private</td>\n",
       "      <td>83891</td>\n",
       "      <td>Bachelors</td>\n",
       "      <td>13</td>\n",
       "      <td>Divorced</td>\n",
       "      <td>Adm-clerical</td>\n",
       "      <td>Own-child</td>\n",
       "      <td>Asian-Pac-Islander</td>\n",
       "      <td>Male</td>\n",
       "      <td>5455</td>\n",
       "      <td>0</td>\n",
       "      <td>40</td>\n",
       "      <td>United-States</td>\n",
       "    </tr>\n",
       "    <tr>\n",
       "      <th>16279</th>\n",
       "      <td>16279</td>\n",
       "      <td>35</td>\n",
       "      <td>Self-emp-inc</td>\n",
       "      <td>182148</td>\n",
       "      <td>Bachelors</td>\n",
       "      <td>13</td>\n",
       "      <td>Married-civ-spouse</td>\n",
       "      <td>Exec-managerial</td>\n",
       "      <td>Husband</td>\n",
       "      <td>White</td>\n",
       "      <td>Male</td>\n",
       "      <td>0</td>\n",
       "      <td>0</td>\n",
       "      <td>60</td>\n",
       "      <td>United-States</td>\n",
       "    </tr>\n",
       "  </tbody>\n",
       "</table>\n",
       "<p>16280 rows × 15 columns</p>\n",
       "</div>"
      ],
      "text/plain": [
       "       Unnamed: 0  age      workclass  fnlwgt      education  education_num  \\\n",
       "0               0   38        Private   89814        HS-grad              9   \n",
       "1               1   28      Local-gov  336951     Assoc-acdm             12   \n",
       "2               2   44        Private  160323   Some-college             10   \n",
       "3               3   18              ?  103497   Some-college             10   \n",
       "4               4   34        Private  198693           10th              6   \n",
       "...           ...  ...            ...     ...            ...            ...   \n",
       "16275       16275   39        Private  215419      Bachelors             13   \n",
       "16276       16276   64              ?  321403        HS-grad              9   \n",
       "16277       16277   38        Private  374983      Bachelors             13   \n",
       "16278       16278   44        Private   83891      Bachelors             13   \n",
       "16279       16279   35   Self-emp-inc  182148      Bachelors             13   \n",
       "\n",
       "            marital_status          occupation     relationship  \\\n",
       "0       Married-civ-spouse     Farming-fishing          Husband   \n",
       "1       Married-civ-spouse     Protective-serv          Husband   \n",
       "2       Married-civ-spouse   Machine-op-inspct          Husband   \n",
       "3            Never-married                   ?        Own-child   \n",
       "4            Never-married       Other-service    Not-in-family   \n",
       "...                    ...                 ...              ...   \n",
       "16275             Divorced      Prof-specialty    Not-in-family   \n",
       "16276              Widowed                   ?   Other-relative   \n",
       "16277   Married-civ-spouse      Prof-specialty          Husband   \n",
       "16278             Divorced        Adm-clerical        Own-child   \n",
       "16279   Married-civ-spouse     Exec-managerial          Husband   \n",
       "\n",
       "                      race      sex  capital_gain  capital_loss  \\\n",
       "0                    White     Male             0             0   \n",
       "1                    White     Male             0             0   \n",
       "2                    Black     Male          7688             0   \n",
       "3                    White   Female             0             0   \n",
       "4                    White     Male             0             0   \n",
       "...                    ...      ...           ...           ...   \n",
       "16275                White   Female             0             0   \n",
       "16276                Black     Male             0             0   \n",
       "16277                White     Male             0             0   \n",
       "16278   Asian-Pac-Islander     Male          5455             0   \n",
       "16279                White     Male             0             0   \n",
       "\n",
       "       hours_per_week  native_country  \n",
       "0                  50   United-States  \n",
       "1                  40   United-States  \n",
       "2                  40   United-States  \n",
       "3                  30   United-States  \n",
       "4                  30   United-States  \n",
       "...               ...             ...  \n",
       "16275              36   United-States  \n",
       "16276              40   United-States  \n",
       "16277              50   United-States  \n",
       "16278              40   United-States  \n",
       "16279              60   United-States  \n",
       "\n",
       "[16280 rows x 15 columns]"
      ]
     },
     "execution_count": 70,
     "metadata": {},
     "output_type": "execute_result"
    }
   ],
   "source": [
    "#Importando o dataset de teste\n",
    "wg_data_test = pd.read_csv('wage_test.csv')\n",
    "wg_data_test"
   ]
  },
  {
   "cell_type": "code",
   "execution_count": 78,
   "metadata": {},
   "outputs": [],
   "source": [
    "#Trocando os valores ausentes por valores nulos\n",
    "for col in wg_data_test.columns:\n",
    "    for idx, row in enumerate(wg_data_test[col]):\n",
    "        if str.strip(str(row)) == '?':\n",
    "            wg_data_test.loc[idx, col] = 'Unknown'\n",
    "#Excluindo os valores nulos\n",
    "#wg_data = wg_data.dropna()"
   ]
  },
  {
   "cell_type": "code",
   "execution_count": 79,
   "metadata": {},
   "outputs": [
    {
     "data": {
      "text/html": [
       "<div>\n",
       "<style scoped>\n",
       "    .dataframe tbody tr th:only-of-type {\n",
       "        vertical-align: middle;\n",
       "    }\n",
       "\n",
       "    .dataframe tbody tr th {\n",
       "        vertical-align: top;\n",
       "    }\n",
       "\n",
       "    .dataframe thead th {\n",
       "        text-align: right;\n",
       "    }\n",
       "</style>\n",
       "<table border=\"1\" class=\"dataframe\">\n",
       "  <thead>\n",
       "    <tr style=\"text-align: right;\">\n",
       "      <th></th>\n",
       "      <th>Unnamed: 0</th>\n",
       "      <th>age</th>\n",
       "      <th>workclass</th>\n",
       "      <th>fnlwgt</th>\n",
       "      <th>education</th>\n",
       "      <th>education_num</th>\n",
       "      <th>marital_status</th>\n",
       "      <th>occupation</th>\n",
       "      <th>relationship</th>\n",
       "      <th>race</th>\n",
       "      <th>sex</th>\n",
       "      <th>capital_gain</th>\n",
       "      <th>capital_loss</th>\n",
       "      <th>hours_per_week</th>\n",
       "      <th>native_country</th>\n",
       "    </tr>\n",
       "  </thead>\n",
       "  <tbody>\n",
       "    <tr>\n",
       "      <th>0</th>\n",
       "      <td>0</td>\n",
       "      <td>38</td>\n",
       "      <td>Private</td>\n",
       "      <td>89814</td>\n",
       "      <td>Medio</td>\n",
       "      <td>9</td>\n",
       "      <td>Married-civ-spouse</td>\n",
       "      <td>Farming-fishing</td>\n",
       "      <td>Husband</td>\n",
       "      <td>White</td>\n",
       "      <td>Male</td>\n",
       "      <td>0</td>\n",
       "      <td>0</td>\n",
       "      <td>50</td>\n",
       "      <td>United-States</td>\n",
       "    </tr>\n",
       "    <tr>\n",
       "      <th>1</th>\n",
       "      <td>1</td>\n",
       "      <td>28</td>\n",
       "      <td>Gov_Workers</td>\n",
       "      <td>336951</td>\n",
       "      <td>Superior</td>\n",
       "      <td>12</td>\n",
       "      <td>Married-civ-spouse</td>\n",
       "      <td>Protective-serv</td>\n",
       "      <td>Husband</td>\n",
       "      <td>White</td>\n",
       "      <td>Male</td>\n",
       "      <td>0</td>\n",
       "      <td>0</td>\n",
       "      <td>40</td>\n",
       "      <td>United-States</td>\n",
       "    </tr>\n",
       "    <tr>\n",
       "      <th>2</th>\n",
       "      <td>2</td>\n",
       "      <td>44</td>\n",
       "      <td>Private</td>\n",
       "      <td>160323</td>\n",
       "      <td>Superior</td>\n",
       "      <td>10</td>\n",
       "      <td>Married-civ-spouse</td>\n",
       "      <td>Machine-op-inspct</td>\n",
       "      <td>Husband</td>\n",
       "      <td>Black</td>\n",
       "      <td>Male</td>\n",
       "      <td>7688</td>\n",
       "      <td>0</td>\n",
       "      <td>40</td>\n",
       "      <td>United-States</td>\n",
       "    </tr>\n",
       "    <tr>\n",
       "      <th>3</th>\n",
       "      <td>3</td>\n",
       "      <td>18</td>\n",
       "      <td>Unknown</td>\n",
       "      <td>103497</td>\n",
       "      <td>Superior</td>\n",
       "      <td>10</td>\n",
       "      <td>Never-married</td>\n",
       "      <td>Unknown</td>\n",
       "      <td>Own-child</td>\n",
       "      <td>White</td>\n",
       "      <td>Female</td>\n",
       "      <td>0</td>\n",
       "      <td>0</td>\n",
       "      <td>30</td>\n",
       "      <td>United-States</td>\n",
       "    </tr>\n",
       "    <tr>\n",
       "      <th>4</th>\n",
       "      <td>4</td>\n",
       "      <td>34</td>\n",
       "      <td>Private</td>\n",
       "      <td>198693</td>\n",
       "      <td>Medio</td>\n",
       "      <td>6</td>\n",
       "      <td>Never-married</td>\n",
       "      <td>Other-service</td>\n",
       "      <td>Not-in-family</td>\n",
       "      <td>White</td>\n",
       "      <td>Male</td>\n",
       "      <td>0</td>\n",
       "      <td>0</td>\n",
       "      <td>30</td>\n",
       "      <td>United-States</td>\n",
       "    </tr>\n",
       "    <tr>\n",
       "      <th>...</th>\n",
       "      <td>...</td>\n",
       "      <td>...</td>\n",
       "      <td>...</td>\n",
       "      <td>...</td>\n",
       "      <td>...</td>\n",
       "      <td>...</td>\n",
       "      <td>...</td>\n",
       "      <td>...</td>\n",
       "      <td>...</td>\n",
       "      <td>...</td>\n",
       "      <td>...</td>\n",
       "      <td>...</td>\n",
       "      <td>...</td>\n",
       "      <td>...</td>\n",
       "      <td>...</td>\n",
       "    </tr>\n",
       "    <tr>\n",
       "      <th>16275</th>\n",
       "      <td>16275</td>\n",
       "      <td>39</td>\n",
       "      <td>Private</td>\n",
       "      <td>215419</td>\n",
       "      <td>Superior</td>\n",
       "      <td>13</td>\n",
       "      <td>Divorced</td>\n",
       "      <td>Prof-specialty</td>\n",
       "      <td>Not-in-family</td>\n",
       "      <td>White</td>\n",
       "      <td>Female</td>\n",
       "      <td>0</td>\n",
       "      <td>0</td>\n",
       "      <td>36</td>\n",
       "      <td>United-States</td>\n",
       "    </tr>\n",
       "    <tr>\n",
       "      <th>16276</th>\n",
       "      <td>16276</td>\n",
       "      <td>64</td>\n",
       "      <td>Unknown</td>\n",
       "      <td>321403</td>\n",
       "      <td>Medio</td>\n",
       "      <td>9</td>\n",
       "      <td>Widowed</td>\n",
       "      <td>Unknown</td>\n",
       "      <td>Other-relative</td>\n",
       "      <td>Black</td>\n",
       "      <td>Male</td>\n",
       "      <td>0</td>\n",
       "      <td>0</td>\n",
       "      <td>40</td>\n",
       "      <td>United-States</td>\n",
       "    </tr>\n",
       "    <tr>\n",
       "      <th>16277</th>\n",
       "      <td>16277</td>\n",
       "      <td>38</td>\n",
       "      <td>Private</td>\n",
       "      <td>374983</td>\n",
       "      <td>Superior</td>\n",
       "      <td>13</td>\n",
       "      <td>Married-civ-spouse</td>\n",
       "      <td>Prof-specialty</td>\n",
       "      <td>Husband</td>\n",
       "      <td>White</td>\n",
       "      <td>Male</td>\n",
       "      <td>0</td>\n",
       "      <td>0</td>\n",
       "      <td>50</td>\n",
       "      <td>United-States</td>\n",
       "    </tr>\n",
       "    <tr>\n",
       "      <th>16278</th>\n",
       "      <td>16278</td>\n",
       "      <td>44</td>\n",
       "      <td>Private</td>\n",
       "      <td>83891</td>\n",
       "      <td>Superior</td>\n",
       "      <td>13</td>\n",
       "      <td>Divorced</td>\n",
       "      <td>Adm-clerical</td>\n",
       "      <td>Own-child</td>\n",
       "      <td>Asian-Pac-Islander</td>\n",
       "      <td>Male</td>\n",
       "      <td>5455</td>\n",
       "      <td>0</td>\n",
       "      <td>40</td>\n",
       "      <td>United-States</td>\n",
       "    </tr>\n",
       "    <tr>\n",
       "      <th>16279</th>\n",
       "      <td>16279</td>\n",
       "      <td>35</td>\n",
       "      <td>Self_Emp</td>\n",
       "      <td>182148</td>\n",
       "      <td>Superior</td>\n",
       "      <td>13</td>\n",
       "      <td>Married-civ-spouse</td>\n",
       "      <td>Exec-managerial</td>\n",
       "      <td>Husband</td>\n",
       "      <td>White</td>\n",
       "      <td>Male</td>\n",
       "      <td>0</td>\n",
       "      <td>0</td>\n",
       "      <td>60</td>\n",
       "      <td>United-States</td>\n",
       "    </tr>\n",
       "  </tbody>\n",
       "</table>\n",
       "<p>16280 rows × 15 columns</p>\n",
       "</div>"
      ],
      "text/plain": [
       "       Unnamed: 0  age    workclass  fnlwgt education  education_num  \\\n",
       "0               0   38      Private   89814     Medio              9   \n",
       "1               1   28  Gov_Workers  336951  Superior             12   \n",
       "2               2   44      Private  160323  Superior             10   \n",
       "3               3   18      Unknown  103497  Superior             10   \n",
       "4               4   34      Private  198693     Medio              6   \n",
       "...           ...  ...          ...     ...       ...            ...   \n",
       "16275       16275   39      Private  215419  Superior             13   \n",
       "16276       16276   64      Unknown  321403     Medio              9   \n",
       "16277       16277   38      Private  374983  Superior             13   \n",
       "16278       16278   44      Private   83891  Superior             13   \n",
       "16279       16279   35     Self_Emp  182148  Superior             13   \n",
       "\n",
       "            marital_status         occupation     relationship  \\\n",
       "0       Married-civ-spouse    Farming-fishing          Husband   \n",
       "1       Married-civ-spouse    Protective-serv          Husband   \n",
       "2       Married-civ-spouse  Machine-op-inspct          Husband   \n",
       "3            Never-married            Unknown        Own-child   \n",
       "4            Never-married      Other-service    Not-in-family   \n",
       "...                    ...                ...              ...   \n",
       "16275             Divorced     Prof-specialty    Not-in-family   \n",
       "16276              Widowed            Unknown   Other-relative   \n",
       "16277   Married-civ-spouse     Prof-specialty          Husband   \n",
       "16278             Divorced       Adm-clerical        Own-child   \n",
       "16279   Married-civ-spouse    Exec-managerial          Husband   \n",
       "\n",
       "                     race     sex  capital_gain  capital_loss  hours_per_week  \\\n",
       "0                   White    Male             0             0              50   \n",
       "1                   White    Male             0             0              40   \n",
       "2                   Black    Male          7688             0              40   \n",
       "3                   White  Female             0             0              30   \n",
       "4                   White    Male             0             0              30   \n",
       "...                   ...     ...           ...           ...             ...   \n",
       "16275               White  Female             0             0              36   \n",
       "16276               Black    Male             0             0              40   \n",
       "16277               White    Male             0             0              50   \n",
       "16278  Asian-Pac-Islander    Male          5455             0              40   \n",
       "16279               White    Male             0             0              60   \n",
       "\n",
       "       native_country  \n",
       "0       United-States  \n",
       "1       United-States  \n",
       "2       United-States  \n",
       "3       United-States  \n",
       "4       United-States  \n",
       "...               ...  \n",
       "16275   United-States  \n",
       "16276   United-States  \n",
       "16277   United-States  \n",
       "16278   United-States  \n",
       "16279   United-States  \n",
       "\n",
       "[16280 rows x 15 columns]"
      ]
     },
     "execution_count": 79,
     "metadata": {},
     "output_type": "execute_result"
    }
   ],
   "source": [
    "wg_data_test"
   ]
  },
  {
   "cell_type": "code",
   "execution_count": 80,
   "metadata": {},
   "outputs": [],
   "source": [
    "#Criando novas categorias para algumas colunas com valores categóricos\n",
    "wg_data_test['occupation'] = wg_data_test['occupation'].str.strip()\n",
    "wg_data_test['race'] = wg_data_test['race'].str.strip()\n",
    "wg_data_test['sex'] = wg_data_test['sex'].str.strip()\n",
    "wg_data_test['workclass'] = wg_data_test['workclass'].str.strip()\n",
    "wg_data_test['workclass'] = wg_data_test['workclass'].replace(['Local-gov', 'State-gov', 'Federal-gov'], 'Gov_Workers')\n",
    "wg_data_test['workclass'] = wg_data_test['workclass'].replace(['Self-emp-not-inc', 'Self-emp-inc'], 'Self_Emp')\n",
    "wg_data_test['workclass'] = wg_data_test['workclass'].replace(['Without-pay', 'Never-worked'], 'Unemployed')\n",
    "wg_data_test['education'] = wg_data_test['education'].str.strip()\n",
    "wg_data_test['education'] = wg_data_test['education'].replace(['1st-4th', '5th-6th', '7th-8th', 'Preschool'], 'Fundamental')\n",
    "wg_data_test['education'] = wg_data_test['education'].replace(['HS-grad', '9th', '10th', '11th', '12th', 'Prof-school'], 'Medio')\n",
    "wg_data_test['education'] = wg_data_test['education'].replace(['Assoc-acdm', 'Some-college', 'Bachelors', 'Masters', 'Doctorate', 'Assoc-voc'], 'Superior')"
   ]
  },
  {
   "cell_type": "code",
   "execution_count": 81,
   "metadata": {},
   "outputs": [
    {
     "data": {
      "text/html": [
       "<div>\n",
       "<style scoped>\n",
       "    .dataframe tbody tr th:only-of-type {\n",
       "        vertical-align: middle;\n",
       "    }\n",
       "\n",
       "    .dataframe tbody tr th {\n",
       "        vertical-align: top;\n",
       "    }\n",
       "\n",
       "    .dataframe thead th {\n",
       "        text-align: right;\n",
       "    }\n",
       "</style>\n",
       "<table border=\"1\" class=\"dataframe\">\n",
       "  <thead>\n",
       "    <tr style=\"text-align: right;\">\n",
       "      <th></th>\n",
       "      <th>Unnamed: 0</th>\n",
       "      <th>age</th>\n",
       "      <th>workclass</th>\n",
       "      <th>fnlwgt</th>\n",
       "      <th>education</th>\n",
       "      <th>education_num</th>\n",
       "      <th>marital_status</th>\n",
       "      <th>occupation</th>\n",
       "      <th>relationship</th>\n",
       "      <th>race</th>\n",
       "      <th>sex</th>\n",
       "      <th>capital_gain</th>\n",
       "      <th>capital_loss</th>\n",
       "      <th>hours_per_week</th>\n",
       "      <th>native_country</th>\n",
       "    </tr>\n",
       "  </thead>\n",
       "  <tbody>\n",
       "    <tr>\n",
       "      <th>0</th>\n",
       "      <td>0</td>\n",
       "      <td>38</td>\n",
       "      <td>Private</td>\n",
       "      <td>89814</td>\n",
       "      <td>Medio</td>\n",
       "      <td>9</td>\n",
       "      <td>Married-civ-spouse</td>\n",
       "      <td>Farming-fishing</td>\n",
       "      <td>Husband</td>\n",
       "      <td>White</td>\n",
       "      <td>Male</td>\n",
       "      <td>0</td>\n",
       "      <td>0</td>\n",
       "      <td>50</td>\n",
       "      <td>United-States</td>\n",
       "    </tr>\n",
       "    <tr>\n",
       "      <th>1</th>\n",
       "      <td>1</td>\n",
       "      <td>28</td>\n",
       "      <td>Gov_Workers</td>\n",
       "      <td>336951</td>\n",
       "      <td>Superior</td>\n",
       "      <td>12</td>\n",
       "      <td>Married-civ-spouse</td>\n",
       "      <td>Protective-serv</td>\n",
       "      <td>Husband</td>\n",
       "      <td>White</td>\n",
       "      <td>Male</td>\n",
       "      <td>0</td>\n",
       "      <td>0</td>\n",
       "      <td>40</td>\n",
       "      <td>United-States</td>\n",
       "    </tr>\n",
       "    <tr>\n",
       "      <th>2</th>\n",
       "      <td>2</td>\n",
       "      <td>44</td>\n",
       "      <td>Private</td>\n",
       "      <td>160323</td>\n",
       "      <td>Superior</td>\n",
       "      <td>10</td>\n",
       "      <td>Married-civ-spouse</td>\n",
       "      <td>Machine-op-inspct</td>\n",
       "      <td>Husband</td>\n",
       "      <td>Black</td>\n",
       "      <td>Male</td>\n",
       "      <td>7688</td>\n",
       "      <td>0</td>\n",
       "      <td>40</td>\n",
       "      <td>United-States</td>\n",
       "    </tr>\n",
       "    <tr>\n",
       "      <th>3</th>\n",
       "      <td>3</td>\n",
       "      <td>18</td>\n",
       "      <td>Unknown</td>\n",
       "      <td>103497</td>\n",
       "      <td>Superior</td>\n",
       "      <td>10</td>\n",
       "      <td>Never-married</td>\n",
       "      <td>Unknown</td>\n",
       "      <td>Own-child</td>\n",
       "      <td>White</td>\n",
       "      <td>Female</td>\n",
       "      <td>0</td>\n",
       "      <td>0</td>\n",
       "      <td>30</td>\n",
       "      <td>United-States</td>\n",
       "    </tr>\n",
       "    <tr>\n",
       "      <th>4</th>\n",
       "      <td>4</td>\n",
       "      <td>34</td>\n",
       "      <td>Private</td>\n",
       "      <td>198693</td>\n",
       "      <td>Medio</td>\n",
       "      <td>6</td>\n",
       "      <td>Never-married</td>\n",
       "      <td>Other-service</td>\n",
       "      <td>Not-in-family</td>\n",
       "      <td>White</td>\n",
       "      <td>Male</td>\n",
       "      <td>0</td>\n",
       "      <td>0</td>\n",
       "      <td>30</td>\n",
       "      <td>United-States</td>\n",
       "    </tr>\n",
       "    <tr>\n",
       "      <th>...</th>\n",
       "      <td>...</td>\n",
       "      <td>...</td>\n",
       "      <td>...</td>\n",
       "      <td>...</td>\n",
       "      <td>...</td>\n",
       "      <td>...</td>\n",
       "      <td>...</td>\n",
       "      <td>...</td>\n",
       "      <td>...</td>\n",
       "      <td>...</td>\n",
       "      <td>...</td>\n",
       "      <td>...</td>\n",
       "      <td>...</td>\n",
       "      <td>...</td>\n",
       "      <td>...</td>\n",
       "    </tr>\n",
       "    <tr>\n",
       "      <th>16275</th>\n",
       "      <td>16275</td>\n",
       "      <td>39</td>\n",
       "      <td>Private</td>\n",
       "      <td>215419</td>\n",
       "      <td>Superior</td>\n",
       "      <td>13</td>\n",
       "      <td>Divorced</td>\n",
       "      <td>Prof-specialty</td>\n",
       "      <td>Not-in-family</td>\n",
       "      <td>White</td>\n",
       "      <td>Female</td>\n",
       "      <td>0</td>\n",
       "      <td>0</td>\n",
       "      <td>36</td>\n",
       "      <td>United-States</td>\n",
       "    </tr>\n",
       "    <tr>\n",
       "      <th>16276</th>\n",
       "      <td>16276</td>\n",
       "      <td>64</td>\n",
       "      <td>Unknown</td>\n",
       "      <td>321403</td>\n",
       "      <td>Medio</td>\n",
       "      <td>9</td>\n",
       "      <td>Widowed</td>\n",
       "      <td>Unknown</td>\n",
       "      <td>Other-relative</td>\n",
       "      <td>Black</td>\n",
       "      <td>Male</td>\n",
       "      <td>0</td>\n",
       "      <td>0</td>\n",
       "      <td>40</td>\n",
       "      <td>United-States</td>\n",
       "    </tr>\n",
       "    <tr>\n",
       "      <th>16277</th>\n",
       "      <td>16277</td>\n",
       "      <td>38</td>\n",
       "      <td>Private</td>\n",
       "      <td>374983</td>\n",
       "      <td>Superior</td>\n",
       "      <td>13</td>\n",
       "      <td>Married-civ-spouse</td>\n",
       "      <td>Prof-specialty</td>\n",
       "      <td>Husband</td>\n",
       "      <td>White</td>\n",
       "      <td>Male</td>\n",
       "      <td>0</td>\n",
       "      <td>0</td>\n",
       "      <td>50</td>\n",
       "      <td>United-States</td>\n",
       "    </tr>\n",
       "    <tr>\n",
       "      <th>16278</th>\n",
       "      <td>16278</td>\n",
       "      <td>44</td>\n",
       "      <td>Private</td>\n",
       "      <td>83891</td>\n",
       "      <td>Superior</td>\n",
       "      <td>13</td>\n",
       "      <td>Divorced</td>\n",
       "      <td>Adm-clerical</td>\n",
       "      <td>Own-child</td>\n",
       "      <td>Asian-Pac-Islander</td>\n",
       "      <td>Male</td>\n",
       "      <td>5455</td>\n",
       "      <td>0</td>\n",
       "      <td>40</td>\n",
       "      <td>United-States</td>\n",
       "    </tr>\n",
       "    <tr>\n",
       "      <th>16279</th>\n",
       "      <td>16279</td>\n",
       "      <td>35</td>\n",
       "      <td>Self_Emp</td>\n",
       "      <td>182148</td>\n",
       "      <td>Superior</td>\n",
       "      <td>13</td>\n",
       "      <td>Married-civ-spouse</td>\n",
       "      <td>Exec-managerial</td>\n",
       "      <td>Husband</td>\n",
       "      <td>White</td>\n",
       "      <td>Male</td>\n",
       "      <td>0</td>\n",
       "      <td>0</td>\n",
       "      <td>60</td>\n",
       "      <td>United-States</td>\n",
       "    </tr>\n",
       "  </tbody>\n",
       "</table>\n",
       "<p>16280 rows × 15 columns</p>\n",
       "</div>"
      ],
      "text/plain": [
       "       Unnamed: 0  age    workclass  fnlwgt education  education_num  \\\n",
       "0               0   38      Private   89814     Medio              9   \n",
       "1               1   28  Gov_Workers  336951  Superior             12   \n",
       "2               2   44      Private  160323  Superior             10   \n",
       "3               3   18      Unknown  103497  Superior             10   \n",
       "4               4   34      Private  198693     Medio              6   \n",
       "...           ...  ...          ...     ...       ...            ...   \n",
       "16275       16275   39      Private  215419  Superior             13   \n",
       "16276       16276   64      Unknown  321403     Medio              9   \n",
       "16277       16277   38      Private  374983  Superior             13   \n",
       "16278       16278   44      Private   83891  Superior             13   \n",
       "16279       16279   35     Self_Emp  182148  Superior             13   \n",
       "\n",
       "            marital_status         occupation     relationship  \\\n",
       "0       Married-civ-spouse    Farming-fishing          Husband   \n",
       "1       Married-civ-spouse    Protective-serv          Husband   \n",
       "2       Married-civ-spouse  Machine-op-inspct          Husband   \n",
       "3            Never-married            Unknown        Own-child   \n",
       "4            Never-married      Other-service    Not-in-family   \n",
       "...                    ...                ...              ...   \n",
       "16275             Divorced     Prof-specialty    Not-in-family   \n",
       "16276              Widowed            Unknown   Other-relative   \n",
       "16277   Married-civ-spouse     Prof-specialty          Husband   \n",
       "16278             Divorced       Adm-clerical        Own-child   \n",
       "16279   Married-civ-spouse    Exec-managerial          Husband   \n",
       "\n",
       "                     race     sex  capital_gain  capital_loss  hours_per_week  \\\n",
       "0                   White    Male             0             0              50   \n",
       "1                   White    Male             0             0              40   \n",
       "2                   Black    Male          7688             0              40   \n",
       "3                   White  Female             0             0              30   \n",
       "4                   White    Male             0             0              30   \n",
       "...                   ...     ...           ...           ...             ...   \n",
       "16275               White  Female             0             0              36   \n",
       "16276               Black    Male             0             0              40   \n",
       "16277               White    Male             0             0              50   \n",
       "16278  Asian-Pac-Islander    Male          5455             0              40   \n",
       "16279               White    Male             0             0              60   \n",
       "\n",
       "       native_country  \n",
       "0       United-States  \n",
       "1       United-States  \n",
       "2       United-States  \n",
       "3       United-States  \n",
       "4       United-States  \n",
       "...               ...  \n",
       "16275   United-States  \n",
       "16276   United-States  \n",
       "16277   United-States  \n",
       "16278   United-States  \n",
       "16279   United-States  \n",
       "\n",
       "[16280 rows x 15 columns]"
      ]
     },
     "execution_count": 81,
     "metadata": {},
     "output_type": "execute_result"
    }
   ],
   "source": [
    "wg_data_test"
   ]
  },
  {
   "cell_type": "code",
   "execution_count": 82,
   "metadata": {},
   "outputs": [
    {
     "data": {
      "text/html": [
       "<div>\n",
       "<style scoped>\n",
       "    .dataframe tbody tr th:only-of-type {\n",
       "        vertical-align: middle;\n",
       "    }\n",
       "\n",
       "    .dataframe tbody tr th {\n",
       "        vertical-align: top;\n",
       "    }\n",
       "\n",
       "    .dataframe thead th {\n",
       "        text-align: right;\n",
       "    }\n",
       "</style>\n",
       "<table border=\"1\" class=\"dataframe\">\n",
       "  <thead>\n",
       "    <tr style=\"text-align: right;\">\n",
       "      <th></th>\n",
       "      <th>age</th>\n",
       "      <th>hours_per_week</th>\n",
       "      <th>workclass_Gov_Workers</th>\n",
       "      <th>workclass_Private</th>\n",
       "      <th>workclass_Self_Emp</th>\n",
       "      <th>workclass_Unemployed</th>\n",
       "      <th>workclass_Unknown</th>\n",
       "      <th>education_Fundamental</th>\n",
       "      <th>education_Medio</th>\n",
       "      <th>education_Superior</th>\n",
       "      <th>...</th>\n",
       "      <th>occupation_Tech-support</th>\n",
       "      <th>occupation_Transport-moving</th>\n",
       "      <th>occupation_Unknown</th>\n",
       "      <th>race_Amer-Indian-Eskimo</th>\n",
       "      <th>race_Asian-Pac-Islander</th>\n",
       "      <th>race_Black</th>\n",
       "      <th>race_Other</th>\n",
       "      <th>race_White</th>\n",
       "      <th>sex_Female</th>\n",
       "      <th>sex_Male</th>\n",
       "    </tr>\n",
       "  </thead>\n",
       "  <tbody>\n",
       "    <tr>\n",
       "      <th>0</th>\n",
       "      <td>38</td>\n",
       "      <td>50</td>\n",
       "      <td>0</td>\n",
       "      <td>1</td>\n",
       "      <td>0</td>\n",
       "      <td>0</td>\n",
       "      <td>0</td>\n",
       "      <td>0</td>\n",
       "      <td>1</td>\n",
       "      <td>0</td>\n",
       "      <td>...</td>\n",
       "      <td>0</td>\n",
       "      <td>0</td>\n",
       "      <td>0</td>\n",
       "      <td>0</td>\n",
       "      <td>0</td>\n",
       "      <td>0</td>\n",
       "      <td>0</td>\n",
       "      <td>1</td>\n",
       "      <td>0</td>\n",
       "      <td>1</td>\n",
       "    </tr>\n",
       "    <tr>\n",
       "      <th>1</th>\n",
       "      <td>28</td>\n",
       "      <td>40</td>\n",
       "      <td>1</td>\n",
       "      <td>0</td>\n",
       "      <td>0</td>\n",
       "      <td>0</td>\n",
       "      <td>0</td>\n",
       "      <td>0</td>\n",
       "      <td>0</td>\n",
       "      <td>1</td>\n",
       "      <td>...</td>\n",
       "      <td>0</td>\n",
       "      <td>0</td>\n",
       "      <td>0</td>\n",
       "      <td>0</td>\n",
       "      <td>0</td>\n",
       "      <td>0</td>\n",
       "      <td>0</td>\n",
       "      <td>1</td>\n",
       "      <td>0</td>\n",
       "      <td>1</td>\n",
       "    </tr>\n",
       "    <tr>\n",
       "      <th>2</th>\n",
       "      <td>44</td>\n",
       "      <td>40</td>\n",
       "      <td>0</td>\n",
       "      <td>1</td>\n",
       "      <td>0</td>\n",
       "      <td>0</td>\n",
       "      <td>0</td>\n",
       "      <td>0</td>\n",
       "      <td>0</td>\n",
       "      <td>1</td>\n",
       "      <td>...</td>\n",
       "      <td>0</td>\n",
       "      <td>0</td>\n",
       "      <td>0</td>\n",
       "      <td>0</td>\n",
       "      <td>0</td>\n",
       "      <td>1</td>\n",
       "      <td>0</td>\n",
       "      <td>0</td>\n",
       "      <td>0</td>\n",
       "      <td>1</td>\n",
       "    </tr>\n",
       "    <tr>\n",
       "      <th>3</th>\n",
       "      <td>18</td>\n",
       "      <td>30</td>\n",
       "      <td>0</td>\n",
       "      <td>0</td>\n",
       "      <td>0</td>\n",
       "      <td>0</td>\n",
       "      <td>1</td>\n",
       "      <td>0</td>\n",
       "      <td>0</td>\n",
       "      <td>1</td>\n",
       "      <td>...</td>\n",
       "      <td>0</td>\n",
       "      <td>0</td>\n",
       "      <td>1</td>\n",
       "      <td>0</td>\n",
       "      <td>0</td>\n",
       "      <td>0</td>\n",
       "      <td>0</td>\n",
       "      <td>1</td>\n",
       "      <td>1</td>\n",
       "      <td>0</td>\n",
       "    </tr>\n",
       "    <tr>\n",
       "      <th>4</th>\n",
       "      <td>34</td>\n",
       "      <td>30</td>\n",
       "      <td>0</td>\n",
       "      <td>1</td>\n",
       "      <td>0</td>\n",
       "      <td>0</td>\n",
       "      <td>0</td>\n",
       "      <td>0</td>\n",
       "      <td>1</td>\n",
       "      <td>0</td>\n",
       "      <td>...</td>\n",
       "      <td>0</td>\n",
       "      <td>0</td>\n",
       "      <td>0</td>\n",
       "      <td>0</td>\n",
       "      <td>0</td>\n",
       "      <td>0</td>\n",
       "      <td>0</td>\n",
       "      <td>1</td>\n",
       "      <td>0</td>\n",
       "      <td>1</td>\n",
       "    </tr>\n",
       "    <tr>\n",
       "      <th>...</th>\n",
       "      <td>...</td>\n",
       "      <td>...</td>\n",
       "      <td>...</td>\n",
       "      <td>...</td>\n",
       "      <td>...</td>\n",
       "      <td>...</td>\n",
       "      <td>...</td>\n",
       "      <td>...</td>\n",
       "      <td>...</td>\n",
       "      <td>...</td>\n",
       "      <td>...</td>\n",
       "      <td>...</td>\n",
       "      <td>...</td>\n",
       "      <td>...</td>\n",
       "      <td>...</td>\n",
       "      <td>...</td>\n",
       "      <td>...</td>\n",
       "      <td>...</td>\n",
       "      <td>...</td>\n",
       "      <td>...</td>\n",
       "      <td>...</td>\n",
       "    </tr>\n",
       "    <tr>\n",
       "      <th>16275</th>\n",
       "      <td>39</td>\n",
       "      <td>36</td>\n",
       "      <td>0</td>\n",
       "      <td>1</td>\n",
       "      <td>0</td>\n",
       "      <td>0</td>\n",
       "      <td>0</td>\n",
       "      <td>0</td>\n",
       "      <td>0</td>\n",
       "      <td>1</td>\n",
       "      <td>...</td>\n",
       "      <td>0</td>\n",
       "      <td>0</td>\n",
       "      <td>0</td>\n",
       "      <td>0</td>\n",
       "      <td>0</td>\n",
       "      <td>0</td>\n",
       "      <td>0</td>\n",
       "      <td>1</td>\n",
       "      <td>1</td>\n",
       "      <td>0</td>\n",
       "    </tr>\n",
       "    <tr>\n",
       "      <th>16276</th>\n",
       "      <td>64</td>\n",
       "      <td>40</td>\n",
       "      <td>0</td>\n",
       "      <td>0</td>\n",
       "      <td>0</td>\n",
       "      <td>0</td>\n",
       "      <td>1</td>\n",
       "      <td>0</td>\n",
       "      <td>1</td>\n",
       "      <td>0</td>\n",
       "      <td>...</td>\n",
       "      <td>0</td>\n",
       "      <td>0</td>\n",
       "      <td>1</td>\n",
       "      <td>0</td>\n",
       "      <td>0</td>\n",
       "      <td>1</td>\n",
       "      <td>0</td>\n",
       "      <td>0</td>\n",
       "      <td>0</td>\n",
       "      <td>1</td>\n",
       "    </tr>\n",
       "    <tr>\n",
       "      <th>16277</th>\n",
       "      <td>38</td>\n",
       "      <td>50</td>\n",
       "      <td>0</td>\n",
       "      <td>1</td>\n",
       "      <td>0</td>\n",
       "      <td>0</td>\n",
       "      <td>0</td>\n",
       "      <td>0</td>\n",
       "      <td>0</td>\n",
       "      <td>1</td>\n",
       "      <td>...</td>\n",
       "      <td>0</td>\n",
       "      <td>0</td>\n",
       "      <td>0</td>\n",
       "      <td>0</td>\n",
       "      <td>0</td>\n",
       "      <td>0</td>\n",
       "      <td>0</td>\n",
       "      <td>1</td>\n",
       "      <td>0</td>\n",
       "      <td>1</td>\n",
       "    </tr>\n",
       "    <tr>\n",
       "      <th>16278</th>\n",
       "      <td>44</td>\n",
       "      <td>40</td>\n",
       "      <td>0</td>\n",
       "      <td>1</td>\n",
       "      <td>0</td>\n",
       "      <td>0</td>\n",
       "      <td>0</td>\n",
       "      <td>0</td>\n",
       "      <td>0</td>\n",
       "      <td>1</td>\n",
       "      <td>...</td>\n",
       "      <td>0</td>\n",
       "      <td>0</td>\n",
       "      <td>0</td>\n",
       "      <td>0</td>\n",
       "      <td>1</td>\n",
       "      <td>0</td>\n",
       "      <td>0</td>\n",
       "      <td>0</td>\n",
       "      <td>0</td>\n",
       "      <td>1</td>\n",
       "    </tr>\n",
       "    <tr>\n",
       "      <th>16279</th>\n",
       "      <td>35</td>\n",
       "      <td>60</td>\n",
       "      <td>0</td>\n",
       "      <td>0</td>\n",
       "      <td>1</td>\n",
       "      <td>0</td>\n",
       "      <td>0</td>\n",
       "      <td>0</td>\n",
       "      <td>0</td>\n",
       "      <td>1</td>\n",
       "      <td>...</td>\n",
       "      <td>0</td>\n",
       "      <td>0</td>\n",
       "      <td>0</td>\n",
       "      <td>0</td>\n",
       "      <td>0</td>\n",
       "      <td>0</td>\n",
       "      <td>0</td>\n",
       "      <td>1</td>\n",
       "      <td>0</td>\n",
       "      <td>1</td>\n",
       "    </tr>\n",
       "  </tbody>\n",
       "</table>\n",
       "<p>16280 rows × 32 columns</p>\n",
       "</div>"
      ],
      "text/plain": [
       "       age  hours_per_week  workclass_Gov_Workers  workclass_Private  \\\n",
       "0       38              50                      0                  1   \n",
       "1       28              40                      1                  0   \n",
       "2       44              40                      0                  1   \n",
       "3       18              30                      0                  0   \n",
       "4       34              30                      0                  1   \n",
       "...    ...             ...                    ...                ...   \n",
       "16275   39              36                      0                  1   \n",
       "16276   64              40                      0                  0   \n",
       "16277   38              50                      0                  1   \n",
       "16278   44              40                      0                  1   \n",
       "16279   35              60                      0                  0   \n",
       "\n",
       "       workclass_Self_Emp  workclass_Unemployed  workclass_Unknown  \\\n",
       "0                       0                     0                  0   \n",
       "1                       0                     0                  0   \n",
       "2                       0                     0                  0   \n",
       "3                       0                     0                  1   \n",
       "4                       0                     0                  0   \n",
       "...                   ...                   ...                ...   \n",
       "16275                   0                     0                  0   \n",
       "16276                   0                     0                  1   \n",
       "16277                   0                     0                  0   \n",
       "16278                   0                     0                  0   \n",
       "16279                   1                     0                  0   \n",
       "\n",
       "       education_Fundamental  education_Medio  education_Superior  ...  \\\n",
       "0                          0                1                   0  ...   \n",
       "1                          0                0                   1  ...   \n",
       "2                          0                0                   1  ...   \n",
       "3                          0                0                   1  ...   \n",
       "4                          0                1                   0  ...   \n",
       "...                      ...              ...                 ...  ...   \n",
       "16275                      0                0                   1  ...   \n",
       "16276                      0                1                   0  ...   \n",
       "16277                      0                0                   1  ...   \n",
       "16278                      0                0                   1  ...   \n",
       "16279                      0                0                   1  ...   \n",
       "\n",
       "       occupation_Tech-support  occupation_Transport-moving  \\\n",
       "0                            0                            0   \n",
       "1                            0                            0   \n",
       "2                            0                            0   \n",
       "3                            0                            0   \n",
       "4                            0                            0   \n",
       "...                        ...                          ...   \n",
       "16275                        0                            0   \n",
       "16276                        0                            0   \n",
       "16277                        0                            0   \n",
       "16278                        0                            0   \n",
       "16279                        0                            0   \n",
       "\n",
       "       occupation_Unknown  race_Amer-Indian-Eskimo  race_Asian-Pac-Islander  \\\n",
       "0                       0                        0                        0   \n",
       "1                       0                        0                        0   \n",
       "2                       0                        0                        0   \n",
       "3                       1                        0                        0   \n",
       "4                       0                        0                        0   \n",
       "...                   ...                      ...                      ...   \n",
       "16275                   0                        0                        0   \n",
       "16276                   1                        0                        0   \n",
       "16277                   0                        0                        0   \n",
       "16278                   0                        0                        1   \n",
       "16279                   0                        0                        0   \n",
       "\n",
       "       race_Black  race_Other  race_White  sex_Female  sex_Male  \n",
       "0               0           0           1           0         1  \n",
       "1               0           0           1           0         1  \n",
       "2               1           0           0           0         1  \n",
       "3               0           0           1           1         0  \n",
       "4               0           0           1           0         1  \n",
       "...           ...         ...         ...         ...       ...  \n",
       "16275           0           0           1           1         0  \n",
       "16276           1           0           0           0         1  \n",
       "16277           0           0           1           0         1  \n",
       "16278           0           0           0           0         1  \n",
       "16279           0           0           1           0         1  \n",
       "\n",
       "[16280 rows x 32 columns]"
      ]
     },
     "execution_count": 82,
     "metadata": {},
     "output_type": "execute_result"
    }
   ],
   "source": [
    "#Função para selecionar e codificar as colunas categóricas\n",
    "def prepareDataTest(df):\n",
    "    df = df[['age','workclass', 'education', 'occupation', 'race', 'sex', 'hours_per_week']]\n",
    "    df_num =  pd.DataFrame(columns=['age','workclass', 'education', 'occupation', 'race', 'sex', 'hours_per_week'])\n",
    "    df_num = pd.get_dummies(data = df,\n",
    "        columns = ['workclass', 'education', 'occupation', 'race', 'sex'],\n",
    "        prefix = ['workclass', 'education', 'occupation', 'race', 'sex'] \n",
    "    )\n",
    "    return df_num\n",
    "\n",
    "X_test = prepareDataTest(wg_data_test)\n",
    "X_test"
   ]
  },
  {
   "cell_type": "markdown",
   "metadata": {},
   "source": [
    "## Predição do Conjunto de Testes"
   ]
  },
  {
   "cell_type": "code",
   "execution_count": 83,
   "metadata": {},
   "outputs": [],
   "source": [
    "#Usando o melhor modelo para predição\n",
    "predictions_test = bestModel.predict(X_test)"
   ]
  },
  {
   "cell_type": "code",
   "execution_count": 84,
   "metadata": {},
   "outputs": [],
   "source": [
    "# Transformando os valores binários preditos para as categorias de Salário\n",
    "predicted_wages = [\" <=50K\" if x == 0 else \" >50K\" for x in predictions_test]\n",
    "wg_data_test['predictedValues'] = predicted_wages"
   ]
  },
  {
   "cell_type": "code",
   "execution_count": 68,
   "metadata": {},
   "outputs": [
    {
     "name": "stderr",
     "output_type": "stream",
     "text": [
      "<ipython-input-68-2a41f39ab47a>:3: FutureWarning: The signature of `Series.to_csv` was aligned to that of `DataFrame.to_csv`, and argument 'header' will change its default value from False to True: please pass an explicit value to suppress this warning.\n",
      "  df_result.to_csv('predicted.csv')\n"
     ]
    }
   ],
   "source": [
    "# Gerando o Dataset Final e salvando no arquivo csv\n",
    "df_result = wg_data_test['predictedValues']\n",
    "df_result.to_csv('predicted.csv')"
   ]
  }
 ],
 "metadata": {
  "colab": {
   "name": "EDA Project.ipynb",
   "provenance": []
  },
  "kernelspec": {
   "display_name": "Python 3",
   "language": "python",
   "name": "python3"
  },
  "language_info": {
   "codemirror_mode": {
    "name": "ipython",
    "version": 3
   },
   "file_extension": ".py",
   "mimetype": "text/x-python",
   "name": "python",
   "nbconvert_exporter": "python",
   "pygments_lexer": "ipython3",
   "version": "3.8.10"
  },
  "vscode": {
   "interpreter": {
    "hash": "31f2aee4e71d21fbe5cf8b01ff0e069b9275f58929596ceb00d14d90e3e16cd6"
   }
  }
 },
 "nbformat": 4,
 "nbformat_minor": 1
}
